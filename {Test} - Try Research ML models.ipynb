{
 "cells": [
  {
   "cell_type": "code",
   "execution_count": 1,
   "id": "8d624b02-f928-4722-9076-9f67cec0a888",
   "metadata": {},
   "outputs": [],
   "source": [
    "import pandas as pd\n",
    "import numpy as np\n",
    "from sklearn.linear_model import LinearRegression"
   ]
  },
  {
   "cell_type": "code",
   "execution_count": 2,
   "id": "44209cee-1cb9-4a8d-9b7c-a6f2e619bf3c",
   "metadata": {},
   "outputs": [],
   "source": [
    "data = pd.read_csv('smartphones_ready_for_ml_2.csv')"
   ]
  },
  {
   "cell_type": "code",
   "execution_count": 3,
   "id": "14acddbb-bb69-4e69-8ea0-77d0930f6dd1",
   "metadata": {},
   "outputs": [],
   "source": [
    "smartphones = data['model']\n",
    "del data['model']"
   ]
  },
  {
   "cell_type": "code",
   "execution_count": 49,
   "id": "711f3ccf-5dda-4773-835a-f23c65c4bf70",
   "metadata": {},
   "outputs": [
    {
     "data": {
      "text/plain": [
       "Index(['price', 'rating', 'dual sim', '3g', '4g', '5g', 'volte', 'wi-fi',\n",
       "       'nfc', 'ir blaster', 'vo5g', 'single sim', 'cores num', 'processor',\n",
       "       'inbuilt memory', 'ram', 'battery', 'fast charging (w)',\n",
       "       'display size (inch)', 'display heigth (px)', 'display width (px)',\n",
       "       'display frequancy (hz)', 'rear num', 'rear camera (max mp)',\n",
       "       'front num', 'front camera (max mp)', 'card_value (gb)', 'os'],\n",
       "      dtype='object')"
      ]
     },
     "execution_count": 49,
     "metadata": {},
     "output_type": "execute_result"
    }
   ],
   "source": [
    "data.columns"
   ]
  },
  {
   "cell_type": "code",
   "execution_count": 39,
   "id": "b6eba168-1a50-4761-b541-8a20d9667437",
   "metadata": {},
   "outputs": [
    {
     "data": {
      "text/html": [
       "<div>\n",
       "<style scoped>\n",
       "    .dataframe tbody tr th:only-of-type {\n",
       "        vertical-align: middle;\n",
       "    }\n",
       "\n",
       "    .dataframe tbody tr th {\n",
       "        vertical-align: top;\n",
       "    }\n",
       "\n",
       "    .dataframe thead th {\n",
       "        text-align: right;\n",
       "    }\n",
       "</style>\n",
       "<table border=\"1\" class=\"dataframe\">\n",
       "  <thead>\n",
       "    <tr style=\"text-align: right;\">\n",
       "      <th></th>\n",
       "      <th>rating</th>\n",
       "      <th>price</th>\n",
       "      <th>inbuilt memory</th>\n",
       "      <th>battery</th>\n",
       "      <th>display size (inch)</th>\n",
       "      <th>display frequancy (hz)</th>\n",
       "      <th>rear camera (max mp)</th>\n",
       "    </tr>\n",
       "  </thead>\n",
       "  <tbody>\n",
       "    <tr>\n",
       "      <th>0</th>\n",
       "      <td>89.0</td>\n",
       "      <td>61048.89</td>\n",
       "      <td>256.0</td>\n",
       "      <td>5000.0</td>\n",
       "      <td>6.70</td>\n",
       "      <td>120.0</td>\n",
       "      <td>50.0</td>\n",
       "    </tr>\n",
       "    <tr>\n",
       "      <th>1</th>\n",
       "      <td>81.0</td>\n",
       "      <td>22187.79</td>\n",
       "      <td>128.0</td>\n",
       "      <td>5000.0</td>\n",
       "      <td>6.59</td>\n",
       "      <td>120.0</td>\n",
       "      <td>64.0</td>\n",
       "    </tr>\n",
       "    <tr>\n",
       "      <th>2</th>\n",
       "      <td>75.0</td>\n",
       "      <td>18313.89</td>\n",
       "      <td>64.0</td>\n",
       "      <td>5000.0</td>\n",
       "      <td>6.60</td>\n",
       "      <td>90.0</td>\n",
       "      <td>50.0</td>\n",
       "    </tr>\n",
       "    <tr>\n",
       "      <th>3</th>\n",
       "      <td>81.0</td>\n",
       "      <td>16648.89</td>\n",
       "      <td>128.0</td>\n",
       "      <td>5000.0</td>\n",
       "      <td>6.55</td>\n",
       "      <td>120.0</td>\n",
       "      <td>50.0</td>\n",
       "    </tr>\n",
       "    <tr>\n",
       "      <th>4</th>\n",
       "      <td>82.0</td>\n",
       "      <td>27748.89</td>\n",
       "      <td>128.0</td>\n",
       "      <td>5000.0</td>\n",
       "      <td>6.70</td>\n",
       "      <td>120.0</td>\n",
       "      <td>108.0</td>\n",
       "    </tr>\n",
       "  </tbody>\n",
       "</table>\n",
       "</div>"
      ],
      "text/plain": [
       "   rating     price  inbuilt memory  battery  display size (inch)  \\\n",
       "0    89.0  61048.89           256.0   5000.0                 6.70   \n",
       "1    81.0  22187.79           128.0   5000.0                 6.59   \n",
       "2    75.0  18313.89            64.0   5000.0                 6.60   \n",
       "3    81.0  16648.89           128.0   5000.0                 6.55   \n",
       "4    82.0  27748.89           128.0   5000.0                 6.70   \n",
       "\n",
       "   display frequancy (hz)  rear camera (max mp)  \n",
       "0                   120.0                  50.0  \n",
       "1                   120.0                  64.0  \n",
       "2                    90.0                  50.0  \n",
       "3                   120.0                  50.0  \n",
       "4                   120.0                 108.0  "
      ]
     },
     "execution_count": 39,
     "metadata": {},
     "output_type": "execute_result"
    }
   ],
   "source": [
    "clear_data = ['rating', 'price', 'inbuilt memory', 'battery', \n",
    "              'display size (inch)', 'display frequancy (hz)', 'rear camera (max mp)']\n",
    "clear_data = pd.DataFrame([data[x] for x in clear_data]).T\n",
    "clear_data.head()"
   ]
  },
  {
   "cell_type": "code",
   "execution_count": 118,
   "id": "3a55464c-78c1-40be-8b1b-2e33fbf15ac2",
   "metadata": {},
   "outputs": [
    {
     "data": {
      "text/plain": [
       "0                oneplus 11 5g\n",
       "1    oneplus nord ce 2 lite 5g\n",
       "2        samsung galaxy a14 5g\n",
       "3         motorola moto g62 5g\n",
       "4           realme 10 pro plus\n",
       "Name: model, dtype: object"
      ]
     },
     "execution_count": 118,
     "metadata": {},
     "output_type": "execute_result"
    }
   ],
   "source": [
    "smartphones.head()"
   ]
  },
  {
   "cell_type": "code",
   "execution_count": 119,
   "id": "cac40b7b-c2a3-4974-a452-f00deb00be0b",
   "metadata": {},
   "outputs": [
    {
     "data": {
      "text/html": [
       "<div>\n",
       "<style scoped>\n",
       "    .dataframe tbody tr th:only-of-type {\n",
       "        vertical-align: middle;\n",
       "    }\n",
       "\n",
       "    .dataframe tbody tr th {\n",
       "        vertical-align: top;\n",
       "    }\n",
       "\n",
       "    .dataframe thead th {\n",
       "        text-align: right;\n",
       "    }\n",
       "</style>\n",
       "<table border=\"1\" class=\"dataframe\">\n",
       "  <thead>\n",
       "    <tr style=\"text-align: right;\">\n",
       "      <th></th>\n",
       "      <th>rating</th>\n",
       "      <th>price</th>\n",
       "      <th>inbuilt memory</th>\n",
       "      <th>battery</th>\n",
       "      <th>display size</th>\n",
       "      <th>display hz</th>\n",
       "      <th>camera</th>\n",
       "      <th>smartphone</th>\n",
       "    </tr>\n",
       "  </thead>\n",
       "  <tbody>\n",
       "    <tr>\n",
       "      <th>0</th>\n",
       "      <td>89.0</td>\n",
       "      <td>61048.89</td>\n",
       "      <td>256.0</td>\n",
       "      <td>5000.0</td>\n",
       "      <td>6.70</td>\n",
       "      <td>120.0</td>\n",
       "      <td>50.0</td>\n",
       "      <td>oneplus 11 5g</td>\n",
       "    </tr>\n",
       "    <tr>\n",
       "      <th>1</th>\n",
       "      <td>81.0</td>\n",
       "      <td>22187.79</td>\n",
       "      <td>128.0</td>\n",
       "      <td>5000.0</td>\n",
       "      <td>6.59</td>\n",
       "      <td>120.0</td>\n",
       "      <td>64.0</td>\n",
       "      <td>oneplus nord ce 2 lite 5g</td>\n",
       "    </tr>\n",
       "    <tr>\n",
       "      <th>2</th>\n",
       "      <td>75.0</td>\n",
       "      <td>18313.89</td>\n",
       "      <td>64.0</td>\n",
       "      <td>5000.0</td>\n",
       "      <td>6.60</td>\n",
       "      <td>90.0</td>\n",
       "      <td>50.0</td>\n",
       "      <td>samsung galaxy a14 5g</td>\n",
       "    </tr>\n",
       "    <tr>\n",
       "      <th>3</th>\n",
       "      <td>81.0</td>\n",
       "      <td>16648.89</td>\n",
       "      <td>128.0</td>\n",
       "      <td>5000.0</td>\n",
       "      <td>6.55</td>\n",
       "      <td>120.0</td>\n",
       "      <td>50.0</td>\n",
       "      <td>motorola moto g62 5g</td>\n",
       "    </tr>\n",
       "    <tr>\n",
       "      <th>4</th>\n",
       "      <td>82.0</td>\n",
       "      <td>27748.89</td>\n",
       "      <td>128.0</td>\n",
       "      <td>5000.0</td>\n",
       "      <td>6.70</td>\n",
       "      <td>120.0</td>\n",
       "      <td>108.0</td>\n",
       "      <td>realme 10 pro plus</td>\n",
       "    </tr>\n",
       "  </tbody>\n",
       "</table>\n",
       "</div>"
      ],
      "text/plain": [
       "   rating     price  inbuilt memory  battery  display size  display hz  \\\n",
       "0    89.0  61048.89           256.0   5000.0          6.70       120.0   \n",
       "1    81.0  22187.79           128.0   5000.0          6.59       120.0   \n",
       "2    75.0  18313.89            64.0   5000.0          6.60        90.0   \n",
       "3    81.0  16648.89           128.0   5000.0          6.55       120.0   \n",
       "4    82.0  27748.89           128.0   5000.0          6.70       120.0   \n",
       "\n",
       "   camera                 smartphone  \n",
       "0    50.0              oneplus 11 5g  \n",
       "1    64.0  oneplus nord ce 2 lite 5g  \n",
       "2    50.0      samsung galaxy a14 5g  \n",
       "3    50.0       motorola moto g62 5g  \n",
       "4   108.0         realme 10 pro plus  "
      ]
     },
     "execution_count": 119,
     "metadata": {},
     "output_type": "execute_result"
    }
   ],
   "source": [
    "clear_data = clear_data.rename(columns={'display size (inch)': 'display size', 'display frequancy (hz)': 'display hz',\n",
    "                    'rear camera (max mp)': 'camera'})\n",
    "clear_data['smartphone'] = smartphones\n",
    "clear_data.head()"
   ]
  },
  {
   "cell_type": "code",
   "execution_count": 120,
   "id": "7f89a031-59f2-4287-99d7-10e67990cf3d",
   "metadata": {},
   "outputs": [],
   "source": [
    "clear_data.to_csv('clear_phone.csv')"
   ]
  },
  {
   "cell_type": "code",
   "execution_count": 33,
   "id": "fa5f38f7-713e-4f5f-bda5-15d1f0603bc1",
   "metadata": {},
   "outputs": [],
   "source": [
    "from sklearn.linear_model import LinearRegression\n",
    "from sklearn.preprocessing import LabelEncoder\n",
    "from sklearn.cluster import KMeans"
   ]
  },
  {
   "cell_type": "code",
   "execution_count": 36,
   "id": "7122f3c5-125b-426b-9cbe-57b3462c1069",
   "metadata": {},
   "outputs": [
    {
     "data": {
      "text/plain": [
       "array([[8.900000e+01, 6.104889e+04, 2.560000e+02, 5.000000e+03,\n",
       "        6.700000e+00, 1.200000e+02, 5.000000e+01],\n",
       "       [8.100000e+01, 2.218779e+04, 1.280000e+02, 5.000000e+03,\n",
       "        6.590000e+00, 1.200000e+02, 6.400000e+01],\n",
       "       [7.500000e+01, 1.831389e+04, 6.400000e+01, 5.000000e+03,\n",
       "        6.600000e+00, 9.000000e+01, 5.000000e+01]])"
      ]
     },
     "execution_count": 36,
     "metadata": {},
     "output_type": "execute_result"
    }
   ],
   "source": [
    "data_list = np.array(clear_data.values.tolist())\n",
    "data_list[:3]"
   ]
  },
  {
   "cell_type": "code",
   "execution_count": 50,
   "id": "a2586466-4e7b-4d19-b732-61f56d8d1251",
   "metadata": {},
   "outputs": [
    {
     "data": {
      "text/plain": [
       "array([276, 296, 563, 229, 446])"
      ]
     },
     "execution_count": 50,
     "metadata": {},
     "output_type": "execute_result"
    }
   ],
   "source": [
    "encoder = LabelEncoder().fit(smartphones)\n",
    "smartphones_enc = encoder.transform(smartphones)\n",
    "smartphones_enc[:5]"
   ]
  },
  {
   "cell_type": "code",
   "execution_count": null,
   "id": "205b0328-6d04-4a2c-9441-165c0517b725",
   "metadata": {},
   "outputs": [],
   "source": [
    "model = LinearRegression().fit(clear_data, smartphones_enc)\n",
    "model.coef_"
   ]
  },
  {
   "cell_type": "code",
   "execution_count": null,
   "id": "e1cbc298-521f-4f17-bd90-d93b9f79b5a6",
   "metadata": {},
   "outputs": [],
   "source": [
    "predict = model.predict(clear_data)"
   ]
  },
  {
   "cell_type": "code",
   "execution_count": null,
   "id": "a2178468-fe39-40f3-981b-851f6a528d35",
   "metadata": {},
   "outputs": [],
   "source": [
    "from sklearn.metrics import accuracy_score"
   ]
  },
  {
   "cell_type": "code",
   "execution_count": 135,
   "id": "d17f2430-76bf-4bd0-872e-4815f396b29e",
   "metadata": {
    "scrolled": true
   },
   "outputs": [
    {
     "ename": "NameError",
     "evalue": "name 'predict' is not defined",
     "output_type": "error",
     "traceback": [
      "\u001b[1;31m---------------------------------------------------------------------------\u001b[0m",
      "\u001b[1;31mNameError\u001b[0m                                 Traceback (most recent call last)",
      "Cell \u001b[1;32mIn[135], line 1\u001b[0m\n\u001b[1;32m----> 1\u001b[0m \u001b[38;5;28mabs\u001b[39m((predict\u001b[38;5;241m.\u001b[39mreshape(\u001b[38;5;241m1\u001b[39m, \u001b[38;5;241m-\u001b[39m\u001b[38;5;241m1\u001b[39m)[\u001b[38;5;241m0\u001b[39m]\u001b[38;5;241m-\u001b[39m smartphones_enc\u001b[38;5;241m.\u001b[39mreshape(\u001b[38;5;241m1\u001b[39m, \u001b[38;5;241m-\u001b[39m\u001b[38;5;241m1\u001b[39m)[\u001b[38;5;241m0\u001b[39m]))\u001b[38;5;241m.\u001b[39mmean()\n",
      "\u001b[1;31mNameError\u001b[0m: name 'predict' is not defined"
     ]
    }
   ],
   "source": [
    "abs((predict.reshape(1, -1)[0]- smartphones_enc.reshape(1, -1)[0])).mean()"
   ]
  },
  {
   "cell_type": "code",
   "execution_count": 42,
   "id": "ffc88d1e-cb8a-4c46-bc0a-38e5a22dd145",
   "metadata": {},
   "outputs": [
    {
     "data": {
      "text/html": [
       "<div>\n",
       "<style scoped>\n",
       "    .dataframe tbody tr th:only-of-type {\n",
       "        vertical-align: middle;\n",
       "    }\n",
       "\n",
       "    .dataframe tbody tr th {\n",
       "        vertical-align: top;\n",
       "    }\n",
       "\n",
       "    .dataframe thead th {\n",
       "        text-align: right;\n",
       "    }\n",
       "</style>\n",
       "<table border=\"1\" class=\"dataframe\">\n",
       "  <thead>\n",
       "    <tr style=\"text-align: right;\">\n",
       "      <th></th>\n",
       "      <th>rating</th>\n",
       "      <th>price</th>\n",
       "      <th>inbuilt memory</th>\n",
       "      <th>battery</th>\n",
       "      <th>display size (inch)</th>\n",
       "      <th>display frequancy (hz)</th>\n",
       "      <th>rear camera (max mp)</th>\n",
       "    </tr>\n",
       "  </thead>\n",
       "  <tbody>\n",
       "    <tr>\n",
       "      <th>0</th>\n",
       "      <td>89.0</td>\n",
       "      <td>61048.89</td>\n",
       "      <td>256.0</td>\n",
       "      <td>5000.0</td>\n",
       "      <td>6.70</td>\n",
       "      <td>120.0</td>\n",
       "      <td>50.0</td>\n",
       "    </tr>\n",
       "    <tr>\n",
       "      <th>1</th>\n",
       "      <td>81.0</td>\n",
       "      <td>22187.79</td>\n",
       "      <td>128.0</td>\n",
       "      <td>5000.0</td>\n",
       "      <td>6.59</td>\n",
       "      <td>120.0</td>\n",
       "      <td>64.0</td>\n",
       "    </tr>\n",
       "    <tr>\n",
       "      <th>2</th>\n",
       "      <td>75.0</td>\n",
       "      <td>18313.89</td>\n",
       "      <td>64.0</td>\n",
       "      <td>5000.0</td>\n",
       "      <td>6.60</td>\n",
       "      <td>90.0</td>\n",
       "      <td>50.0</td>\n",
       "    </tr>\n",
       "    <tr>\n",
       "      <th>3</th>\n",
       "      <td>81.0</td>\n",
       "      <td>16648.89</td>\n",
       "      <td>128.0</td>\n",
       "      <td>5000.0</td>\n",
       "      <td>6.55</td>\n",
       "      <td>120.0</td>\n",
       "      <td>50.0</td>\n",
       "    </tr>\n",
       "    <tr>\n",
       "      <th>4</th>\n",
       "      <td>82.0</td>\n",
       "      <td>27748.89</td>\n",
       "      <td>128.0</td>\n",
       "      <td>5000.0</td>\n",
       "      <td>6.70</td>\n",
       "      <td>120.0</td>\n",
       "      <td>108.0</td>\n",
       "    </tr>\n",
       "    <tr>\n",
       "      <th>...</th>\n",
       "      <td>...</td>\n",
       "      <td>...</td>\n",
       "      <td>...</td>\n",
       "      <td>...</td>\n",
       "      <td>...</td>\n",
       "      <td>...</td>\n",
       "      <td>...</td>\n",
       "    </tr>\n",
       "    <tr>\n",
       "      <th>963</th>\n",
       "      <td>83.0</td>\n",
       "      <td>38838.90</td>\n",
       "      <td>128.0</td>\n",
       "      <td>5000.0</td>\n",
       "      <td>6.67</td>\n",
       "      <td>120.0</td>\n",
       "      <td>64.0</td>\n",
       "    </tr>\n",
       "    <tr>\n",
       "      <th>964</th>\n",
       "      <td>75.0</td>\n",
       "      <td>16638.90</td>\n",
       "      <td>128.0</td>\n",
       "      <td>5000.0</td>\n",
       "      <td>6.50</td>\n",
       "      <td>60.0</td>\n",
       "      <td>48.0</td>\n",
       "    </tr>\n",
       "    <tr>\n",
       "      <th>965</th>\n",
       "      <td>85.0</td>\n",
       "      <td>32178.90</td>\n",
       "      <td>256.0</td>\n",
       "      <td>5080.0</td>\n",
       "      <td>6.60</td>\n",
       "      <td>144.0</td>\n",
       "      <td>64.0</td>\n",
       "    </tr>\n",
       "    <tr>\n",
       "      <th>966</th>\n",
       "      <td>80.0</td>\n",
       "      <td>22188.90</td>\n",
       "      <td>128.0</td>\n",
       "      <td>5000.0</td>\n",
       "      <td>6.80</td>\n",
       "      <td>60.0</td>\n",
       "      <td>108.0</td>\n",
       "    </tr>\n",
       "    <tr>\n",
       "      <th>967</th>\n",
       "      <td>74.0</td>\n",
       "      <td>27738.90</td>\n",
       "      <td>128.0</td>\n",
       "      <td>5000.0</td>\n",
       "      <td>6.50</td>\n",
       "      <td>60.0</td>\n",
       "      <td>64.0</td>\n",
       "    </tr>\n",
       "  </tbody>\n",
       "</table>\n",
       "<p>968 rows × 7 columns</p>\n",
       "</div>"
      ],
      "text/plain": [
       "     rating     price  inbuilt memory  battery  display size (inch)  \\\n",
       "0      89.0  61048.89           256.0   5000.0                 6.70   \n",
       "1      81.0  22187.79           128.0   5000.0                 6.59   \n",
       "2      75.0  18313.89            64.0   5000.0                 6.60   \n",
       "3      81.0  16648.89           128.0   5000.0                 6.55   \n",
       "4      82.0  27748.89           128.0   5000.0                 6.70   \n",
       "..      ...       ...             ...      ...                  ...   \n",
       "963    83.0  38838.90           128.0   5000.0                 6.67   \n",
       "964    75.0  16638.90           128.0   5000.0                 6.50   \n",
       "965    85.0  32178.90           256.0   5080.0                 6.60   \n",
       "966    80.0  22188.90           128.0   5000.0                 6.80   \n",
       "967    74.0  27738.90           128.0   5000.0                 6.50   \n",
       "\n",
       "     display frequancy (hz)  rear camera (max mp)  \n",
       "0                     120.0                  50.0  \n",
       "1                     120.0                  64.0  \n",
       "2                      90.0                  50.0  \n",
       "3                     120.0                  50.0  \n",
       "4                     120.0                 108.0  \n",
       "..                      ...                   ...  \n",
       "963                   120.0                  64.0  \n",
       "964                    60.0                  48.0  \n",
       "965                   144.0                  64.0  \n",
       "966                    60.0                 108.0  \n",
       "967                    60.0                  64.0  \n",
       "\n",
       "[968 rows x 7 columns]"
      ]
     },
     "execution_count": 42,
     "metadata": {},
     "output_type": "execute_result"
    }
   ],
   "source": [
    "clear_data"
   ]
  },
  {
   "cell_type": "code",
   "execution_count": 46,
   "id": "4bdc29f7-d3f0-410a-a625-c430034f8d86",
   "metadata": {},
   "outputs": [],
   "source": [
    "del data['Unnamed: 0']"
   ]
  },
  {
   "cell_type": "code",
   "execution_count": 121,
   "id": "3692986b-baed-41f8-8fe2-72dbfe984911",
   "metadata": {},
   "outputs": [],
   "source": [
    "sort_d = clear_data.sort_values(by='price', ascending=False).head(10)"
   ]
  },
  {
   "cell_type": "code",
   "execution_count": 122,
   "id": "52fbe2c5-9396-4c8b-ad0c-8365d5e758c0",
   "metadata": {
    "scrolled": true
   },
   "outputs": [
    {
     "data": {
      "text/plain": [
       "425    721500.00\n",
       "876    532800.00\n",
       "474    266398.89\n",
       "939    238638.90\n",
       "454    221988.90\n",
       "288    203128.89\n",
       "750    199689.00\n",
       "783    192028.89\n",
       "733    188589.00\n",
       "942    187590.00\n",
       "Name: price, dtype: float64"
      ]
     },
     "execution_count": 122,
     "metadata": {},
     "output_type": "execute_result"
    }
   ],
   "source": [
    "sort_d.price"
   ]
  },
  {
   "cell_type": "markdown",
   "id": "adb8cbd7-1d17-4ec7-9c29-710fb072c84e",
   "metadata": {},
   "source": [
    "**Удаляем первые 5 первые смартфонов**"
   ]
  },
  {
   "cell_type": "code",
   "execution_count": 128,
   "id": "390badc6-9420-4c33-9cab-0c753dcfd815",
   "metadata": {
    "scrolled": true
   },
   "outputs": [
    {
     "name": "stdout",
     "output_type": "stream",
     "text": [
      "425      721500.0      vertu signature touch\n",
      "876      532800.0      xiaomi redmi k20 pro signature edition\n",
      "474      266398.9      huawei mate 50 rs porsche design\n",
      "939      238638.9      huawei mate 30 rs porsche design\n",
      "454      221988.9      xiaomi mi mix alpha\n",
      "288      203128.9      apple iphone 14 pro max (1tb)\n",
      "750      199689.0      apple iphone 13 pro max (1tb)\n",
      "783      192028.9      apple iphone 14 pro (1tb)\n",
      "733      188589.0      apple iphone 14 pro max (512gb)\n",
      "942      187590.0      huawei mate x\n"
     ]
    }
   ],
   "source": [
    "for x in sort_d.index:\n",
    "    print(x,'    ', round(sort_d.price[x], 1),'    ',  smartphones[x], )"
   ]
  },
  {
   "cell_type": "code",
   "execution_count": 129,
   "id": "4b1e653e-9c30-42d4-9e7b-04d53dcbe24b",
   "metadata": {},
   "outputs": [],
   "source": [
    "data = data[data['price'] < 221000]"
   ]
  },
  {
   "cell_type": "code",
   "execution_count": 136,
   "id": "75cf48e2-c9eb-4ed6-ae69-6eca7066fd31",
   "metadata": {},
   "outputs": [
    {
     "name": "stdout",
     "output_type": "stream",
     "text": [
      "<class 'pandas.core.frame.DataFrame'>\n",
      "Index: 963 entries, 0 to 967\n",
      "Data columns (total 28 columns):\n",
      " #   Column                 Non-Null Count  Dtype  \n",
      "---  ------                 --------------  -----  \n",
      " 0   price                  963 non-null    float64\n",
      " 1   rating                 963 non-null    float64\n",
      " 2   dual sim               963 non-null    int64  \n",
      " 3   3g                     963 non-null    int64  \n",
      " 4   4g                     963 non-null    int64  \n",
      " 5   5g                     963 non-null    int64  \n",
      " 6   volte                  963 non-null    int64  \n",
      " 7   wi-fi                  963 non-null    int64  \n",
      " 8   nfc                    963 non-null    int64  \n",
      " 9   ir blaster             963 non-null    int64  \n",
      " 10  vo5g                   963 non-null    int64  \n",
      " 11  single sim             963 non-null    int64  \n",
      " 12  cores num              963 non-null    int64  \n",
      " 13  processor              963 non-null    float64\n",
      " 14  inbuilt memory         963 non-null    int64  \n",
      " 15  ram                    963 non-null    int64  \n",
      " 16  battery                963 non-null    int64  \n",
      " 17  fast charging (w)      963 non-null    float64\n",
      " 18  display size           963 non-null    float64\n",
      " 19  display heigth (px)    963 non-null    int64  \n",
      " 20  display width (px)     963 non-null    int64  \n",
      " 21  display hz             963 non-null    int64  \n",
      " 22  rear num               963 non-null    int64  \n",
      " 23  camera                 963 non-null    float64\n",
      " 24  front num              963 non-null    int64  \n",
      " 25  front camera (max mp)  963 non-null    float64\n",
      " 26  card_value (gb)        963 non-null    int64  \n",
      " 27  os                     963 non-null    int64  \n",
      "dtypes: float64(7), int64(21)\n",
      "memory usage: 218.2 KB\n"
     ]
    }
   ],
   "source": [
    "data.info()"
   ]
  },
  {
   "cell_type": "code",
   "execution_count": null,
   "id": "23df6c8b-1e84-48ac-8115-2b0c91d55ffa",
   "metadata": {},
   "outputs": [],
   "source": []
  }
 ],
 "metadata": {
  "kernelspec": {
   "display_name": "Python 3 (ipykernel)",
   "language": "python",
   "name": "python3"
  },
  "language_info": {
   "codemirror_mode": {
    "name": "ipython",
    "version": 3
   },
   "file_extension": ".py",
   "mimetype": "text/x-python",
   "name": "python",
   "nbconvert_exporter": "python",
   "pygments_lexer": "ipython3",
   "version": "3.11.7"
  }
 },
 "nbformat": 4,
 "nbformat_minor": 5
}
