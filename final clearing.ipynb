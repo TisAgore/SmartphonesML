{
 "cells": [
  {
   "cell_type": "code",
   "execution_count": 1,
   "id": "620d0171-125c-4bd5-b4dc-8619485b2e41",
   "metadata": {},
   "outputs": [],
   "source": [
    "import pandas as pd\n",
    "import numpy as np\n"
   ]
  },
  {
   "cell_type": "code",
   "execution_count": 2,
   "id": "2f41e30f-94fa-4185-8e69-e6d7fca9a67b",
   "metadata": {},
   "outputs": [
    {
     "data": {
      "text/html": [
       "<div>\n",
       "<style scoped>\n",
       "    .dataframe tbody tr th:only-of-type {\n",
       "        vertical-align: middle;\n",
       "    }\n",
       "\n",
       "    .dataframe tbody tr th {\n",
       "        vertical-align: top;\n",
       "    }\n",
       "\n",
       "    .dataframe thead th {\n",
       "        text-align: right;\n",
       "    }\n",
       "</style>\n",
       "<table border=\"1\" class=\"dataframe\">\n",
       "  <thead>\n",
       "    <tr style=\"text-align: right;\">\n",
       "      <th></th>\n",
       "      <th>rating</th>\n",
       "      <th>price</th>\n",
       "      <th>inbuilt memory</th>\n",
       "      <th>battery</th>\n",
       "      <th>camera</th>\n",
       "      <th>smartphone</th>\n",
       "    </tr>\n",
       "  </thead>\n",
       "  <tbody>\n",
       "    <tr>\n",
       "      <th>0</th>\n",
       "      <td>89.0</td>\n",
       "      <td>61048.89</td>\n",
       "      <td>256.0</td>\n",
       "      <td>5000.0</td>\n",
       "      <td>50.0</td>\n",
       "      <td>oneplus 11 5g</td>\n",
       "    </tr>\n",
       "    <tr>\n",
       "      <th>1</th>\n",
       "      <td>81.0</td>\n",
       "      <td>22187.79</td>\n",
       "      <td>128.0</td>\n",
       "      <td>5000.0</td>\n",
       "      <td>64.0</td>\n",
       "      <td>oneplus nord ce 2 lite 5g</td>\n",
       "    </tr>\n",
       "    <tr>\n",
       "      <th>2</th>\n",
       "      <td>75.0</td>\n",
       "      <td>18313.89</td>\n",
       "      <td>64.0</td>\n",
       "      <td>5000.0</td>\n",
       "      <td>50.0</td>\n",
       "      <td>samsung galaxy a14 5g</td>\n",
       "    </tr>\n",
       "    <tr>\n",
       "      <th>3</th>\n",
       "      <td>81.0</td>\n",
       "      <td>16648.89</td>\n",
       "      <td>128.0</td>\n",
       "      <td>5000.0</td>\n",
       "      <td>50.0</td>\n",
       "      <td>motorola moto g62 5g</td>\n",
       "    </tr>\n",
       "    <tr>\n",
       "      <th>4</th>\n",
       "      <td>82.0</td>\n",
       "      <td>27748.89</td>\n",
       "      <td>128.0</td>\n",
       "      <td>5000.0</td>\n",
       "      <td>108.0</td>\n",
       "      <td>realme 10 pro plus</td>\n",
       "    </tr>\n",
       "  </tbody>\n",
       "</table>\n",
       "</div>"
      ],
      "text/plain": [
       "   rating     price  inbuilt memory  battery  camera  \\\n",
       "0    89.0  61048.89           256.0   5000.0    50.0   \n",
       "1    81.0  22187.79           128.0   5000.0    64.0   \n",
       "2    75.0  18313.89            64.0   5000.0    50.0   \n",
       "3    81.0  16648.89           128.0   5000.0    50.0   \n",
       "4    82.0  27748.89           128.0   5000.0   108.0   \n",
       "\n",
       "                  smartphone  \n",
       "0              oneplus 11 5g  \n",
       "1  oneplus nord ce 2 lite 5g  \n",
       "2      samsung galaxy a14 5g  \n",
       "3       motorola moto g62 5g  \n",
       "4         realme 10 pro plus  "
      ]
     },
     "execution_count": 2,
     "metadata": {},
     "output_type": "execute_result"
    }
   ],
   "source": [
    "data  = pd.read_csv('CLEAR_DATASET.csv')\n",
    "del data['Unnamed: 0']\n",
    "del data['display hz']\n",
    "del data['display size']\n",
    "data.head()"
   ]
  },
  {
   "cell_type": "code",
   "execution_count": 3,
   "id": "ac9eac26-f71c-4860-a384-f3a7f4197d47",
   "metadata": {},
   "outputs": [],
   "source": [
    "smartphones = data.smartphone.unique()\n",
    "s = set()\n",
    "for elem in smartphones:\n",
    "    elem = elem.split()\n",
    "    elem = elem[0]\n",
    "    s.add(elem)"
   ]
  },
  {
   "cell_type": "code",
   "execution_count": 4,
   "id": "7f965cd7-2272-4c89-949b-86a93e633e66",
   "metadata": {
    "scrolled": true
   },
   "outputs": [
    {
     "data": {
      "text/plain": [
       "{'apple',\n",
       " 'asus',\n",
       " 'blackview',\n",
       " 'blu',\n",
       " 'cola',\n",
       " 'doogee',\n",
       " 'gionee',\n",
       " 'google',\n",
       " 'honor',\n",
       " 'huawei',\n",
       " 'ikall',\n",
       " 'infinix',\n",
       " 'iqoo',\n",
       " 'itel',\n",
       " 'jio',\n",
       " 'lava',\n",
       " 'leeco',\n",
       " 'lenovo',\n",
       " 'letv',\n",
       " 'lg',\n",
       " 'lyf',\n",
       " 'micromax',\n",
       " 'motorola',\n",
       " 'nokia',\n",
       " 'nothing',\n",
       " 'nubia',\n",
       " 'oneplus',\n",
       " 'oppo',\n",
       " 'poco',\n",
       " 'realme',\n",
       " 'redmi',\n",
       " 'royole',\n",
       " 'samsung',\n",
       " 'sharp',\n",
       " 'sony',\n",
       " 'tcl',\n",
       " 'tecno',\n",
       " 'tesla',\n",
       " 'vivo',\n",
       " 'xiaomi',\n",
       " 'zte'}"
      ]
     },
     "execution_count": 4,
     "metadata": {},
     "output_type": "execute_result"
    }
   ],
   "source": [
    "s"
   ]
  },
  {
   "cell_type": "code",
   "execution_count": 5,
   "id": "27dbe815-7fee-4361-9e05-deaa902d6a6c",
   "metadata": {},
   "outputs": [],
   "source": [
    "exc = ('tesla','royole', 'micromax','lyf','letv','leeco','lava','jio','itel','iqoo','ikall','gionee','doogee','cola','blu', 'blackview', 'zte')"
   ]
  },
  {
   "cell_type": "code",
   "execution_count": 71,
   "id": "49aacaa8-705c-4ec8-ae71-f5eef25f6878",
   "metadata": {
    "scrolled": true
   },
   "outputs": [
    {
     "name": "stdout",
     "output_type": "stream",
     "text": [
      "3\n",
      "88\n",
      "132\n",
      "2\n",
      "41\n",
      "132\n",
      "11\n",
      "97\n",
      "29\n",
      "1\n",
      "11\n",
      "14\n",
      "111\n",
      "5\n",
      "13\n",
      "42\n",
      "6\n",
      "52\n",
      "9\n",
      "33\n",
      "1\n",
      "7\n",
      "35\n",
      "3\n"
     ]
    }
   ],
   "source": [
    "s = list(s)\n",
    "for x in s:\n",
    "    if x not in exc:\n",
    "        sss = data[data['smartphone'].str.startswith(x) == True]\n",
    "        print(len(sss))\n",
    "    "
   ]
  },
  {
   "cell_type": "code",
   "execution_count": 6,
   "id": "36aef2a4-e24a-43d4-bebe-51a6c42fd153",
   "metadata": {},
   "outputs": [],
   "source": [
    "data = data[data['smartphone'].str.startswith(exc) == False]\n"
   ]
  },
  {
   "cell_type": "code",
   "execution_count": 7,
   "id": "f1d1d667-4a5a-4435-85eb-c623193c1ec5",
   "metadata": {},
   "outputs": [
    {
     "data": {
      "text/html": [
       "<div>\n",
       "<style scoped>\n",
       "    .dataframe tbody tr th:only-of-type {\n",
       "        vertical-align: middle;\n",
       "    }\n",
       "\n",
       "    .dataframe tbody tr th {\n",
       "        vertical-align: top;\n",
       "    }\n",
       "\n",
       "    .dataframe thead th {\n",
       "        text-align: right;\n",
       "    }\n",
       "</style>\n",
       "<table border=\"1\" class=\"dataframe\">\n",
       "  <thead>\n",
       "    <tr style=\"text-align: right;\">\n",
       "      <th></th>\n",
       "      <th>rating</th>\n",
       "      <th>price</th>\n",
       "      <th>inbuilt memory</th>\n",
       "      <th>battery</th>\n",
       "      <th>camera</th>\n",
       "      <th>smartphone</th>\n",
       "    </tr>\n",
       "  </thead>\n",
       "  <tbody>\n",
       "    <tr>\n",
       "      <th>0</th>\n",
       "      <td>89.0</td>\n",
       "      <td>61048.89</td>\n",
       "      <td>256.0</td>\n",
       "      <td>5000.0</td>\n",
       "      <td>50.0</td>\n",
       "      <td>oneplus 11 5g</td>\n",
       "    </tr>\n",
       "    <tr>\n",
       "      <th>1</th>\n",
       "      <td>81.0</td>\n",
       "      <td>22187.79</td>\n",
       "      <td>128.0</td>\n",
       "      <td>5000.0</td>\n",
       "      <td>64.0</td>\n",
       "      <td>oneplus nord ce 2 lite 5g</td>\n",
       "    </tr>\n",
       "    <tr>\n",
       "      <th>2</th>\n",
       "      <td>75.0</td>\n",
       "      <td>18313.89</td>\n",
       "      <td>64.0</td>\n",
       "      <td>5000.0</td>\n",
       "      <td>50.0</td>\n",
       "      <td>samsung galaxy a14 5g</td>\n",
       "    </tr>\n",
       "    <tr>\n",
       "      <th>3</th>\n",
       "      <td>81.0</td>\n",
       "      <td>16648.89</td>\n",
       "      <td>128.0</td>\n",
       "      <td>5000.0</td>\n",
       "      <td>50.0</td>\n",
       "      <td>motorola moto g62 5g</td>\n",
       "    </tr>\n",
       "    <tr>\n",
       "      <th>4</th>\n",
       "      <td>82.0</td>\n",
       "      <td>27748.89</td>\n",
       "      <td>128.0</td>\n",
       "      <td>5000.0</td>\n",
       "      <td>108.0</td>\n",
       "      <td>realme 10 pro plus</td>\n",
       "    </tr>\n",
       "    <tr>\n",
       "      <th>...</th>\n",
       "      <td>...</td>\n",
       "      <td>...</td>\n",
       "      <td>...</td>\n",
       "      <td>...</td>\n",
       "      <td>...</td>\n",
       "      <td>...</td>\n",
       "    </tr>\n",
       "    <tr>\n",
       "      <th>873</th>\n",
       "      <td>83.0</td>\n",
       "      <td>38838.90</td>\n",
       "      <td>128.0</td>\n",
       "      <td>5000.0</td>\n",
       "      <td>64.0</td>\n",
       "      <td>motorola moto edge s30 pro</td>\n",
       "    </tr>\n",
       "    <tr>\n",
       "      <th>874</th>\n",
       "      <td>75.0</td>\n",
       "      <td>16638.90</td>\n",
       "      <td>128.0</td>\n",
       "      <td>5000.0</td>\n",
       "      <td>48.0</td>\n",
       "      <td>honor x8 5g</td>\n",
       "    </tr>\n",
       "    <tr>\n",
       "      <th>875</th>\n",
       "      <td>85.0</td>\n",
       "      <td>32178.90</td>\n",
       "      <td>256.0</td>\n",
       "      <td>5080.0</td>\n",
       "      <td>64.0</td>\n",
       "      <td>poco x4 gt 5g (8gb ram + 256gb)</td>\n",
       "    </tr>\n",
       "    <tr>\n",
       "      <th>876</th>\n",
       "      <td>80.0</td>\n",
       "      <td>22188.90</td>\n",
       "      <td>128.0</td>\n",
       "      <td>5000.0</td>\n",
       "      <td>108.0</td>\n",
       "      <td>motorola moto g91 5g</td>\n",
       "    </tr>\n",
       "    <tr>\n",
       "      <th>877</th>\n",
       "      <td>74.0</td>\n",
       "      <td>27738.90</td>\n",
       "      <td>128.0</td>\n",
       "      <td>5000.0</td>\n",
       "      <td>64.0</td>\n",
       "      <td>samsung galaxy m52s 5g</td>\n",
       "    </tr>\n",
       "  </tbody>\n",
       "</table>\n",
       "<p>878 rows × 6 columns</p>\n",
       "</div>"
      ],
      "text/plain": [
       "     rating     price  inbuilt memory  battery  camera  \\\n",
       "0      89.0  61048.89           256.0   5000.0    50.0   \n",
       "1      81.0  22187.79           128.0   5000.0    64.0   \n",
       "2      75.0  18313.89            64.0   5000.0    50.0   \n",
       "3      81.0  16648.89           128.0   5000.0    50.0   \n",
       "4      82.0  27748.89           128.0   5000.0   108.0   \n",
       "..      ...       ...             ...      ...     ...   \n",
       "873    83.0  38838.90           128.0   5000.0    64.0   \n",
       "874    75.0  16638.90           128.0   5000.0    48.0   \n",
       "875    85.0  32178.90           256.0   5080.0    64.0   \n",
       "876    80.0  22188.90           128.0   5000.0   108.0   \n",
       "877    74.0  27738.90           128.0   5000.0    64.0   \n",
       "\n",
       "                          smartphone  \n",
       "0                      oneplus 11 5g  \n",
       "1          oneplus nord ce 2 lite 5g  \n",
       "2              samsung galaxy a14 5g  \n",
       "3               motorola moto g62 5g  \n",
       "4                 realme 10 pro plus  \n",
       "..                               ...  \n",
       "873       motorola moto edge s30 pro  \n",
       "874                      honor x8 5g  \n",
       "875  poco x4 gt 5g (8gb ram + 256gb)  \n",
       "876             motorola moto g91 5g  \n",
       "877           samsung galaxy m52s 5g  \n",
       "\n",
       "[878 rows x 6 columns]"
      ]
     },
     "execution_count": 7,
     "metadata": {},
     "output_type": "execute_result"
    }
   ],
   "source": [
    "data = data.reset_index(drop=True)\n",
    "data"
   ]
  },
  {
   "cell_type": "code",
   "execution_count": 8,
   "id": "cd1be8dc-6fae-4419-8aaf-9cac329e38ba",
   "metadata": {},
   "outputs": [],
   "source": [
    "from sklearn.cluster import KMeans"
   ]
  },
  {
   "cell_type": "code",
   "execution_count": 9,
   "id": "dddc4005-5bed-48b2-a7b4-9176106bf03e",
   "metadata": {},
   "outputs": [],
   "source": [
    "mlprice = KMeans(n_clusters=5)"
   ]
  },
  {
   "cell_type": "code",
   "execution_count": 10,
   "id": "201b4630-2ec8-431d-a4ae-c06f35ae8e52",
   "metadata": {},
   "outputs": [],
   "source": [
    "import seaborn as sns"
   ]
  },
  {
   "cell_type": "code",
   "execution_count": 11,
   "id": "92267243-3cf4-4031-b5a4-cb8106b2cd75",
   "metadata": {
    "scrolled": true
   },
   "outputs": [
    {
     "name": "stderr",
     "output_type": "stream",
     "text": [
      "C:\\Users\\bigbl\\anaconda3\\Lib\\site-packages\\sklearn\\cluster\\_kmeans.py:870: FutureWarning: The default value of `n_init` will change from 10 to 'auto' in 1.4. Set the value of `n_init` explicitly to suppress the warning\n",
      "  warnings.warn(\n",
      "C:\\Users\\bigbl\\anaconda3\\Lib\\site-packages\\sklearn\\cluster\\_kmeans.py:1382: UserWarning: KMeans is known to have a memory leak on Windows with MKL, when there are less chunks than available threads. You can avoid it by setting the environment variable OMP_NUM_THREADS=4.\n",
      "  warnings.warn(\n"
     ]
    },
    {
     "data": {
      "text/plain": [
       "array([28,  5, 15, 24,  9])"
      ]
     },
     "execution_count": 11,
     "metadata": {},
     "output_type": "execute_result"
    }
   ],
   "source": [
    "mlkmeans = KMeans(n_clusters=40).fit(data[['price',  'battery']].to_numpy())\n",
    "mlkmeans.predict(data[['price',  'battery']].to_numpy()[:5])"
   ]
  },
  {
   "cell_type": "code",
   "execution_count": 12,
   "id": "3d1d9a86-9f83-406e-a8e0-cb45d408fc9a",
   "metadata": {
    "scrolled": true
   },
   "outputs": [
    {
     "data": {
      "text/plain": [
       "array([28,  5, 15, 24,  9, 23, 17, 16, 33, 16,  5,  5,  9, 23, 25, 17, 31,\n",
       "       22, 34, 24, 29,  0, 24, 23, 11, 16, 27, 26, 33,  3,  5,  5, 33, 29,\n",
       "       27, 29, 16, 20, 34, 33, 27,  5,  5, 33, 23, 23,  2, 10, 36, 11,  5,\n",
       "        5, 24, 24, 19,  2,  8, 31, 23, 16, 23, 15, 24,  0, 13, 34, 15, 18,\n",
       "       31, 33, 22, 24, 12, 33,  9, 10, 15,  5, 24,  5, 24, 27, 27, 23, 24,\n",
       "       11, 36, 27, 15, 19, 31, 36, 36,  1, 15, 12,  5, 27, 36,  5, 13, 11,\n",
       "       39, 15,  0, 29, 27, 34, 38, 16,  9,  3,  0, 34, 16,  5,  5,  9,  2,\n",
       "        9,  9,  0, 36, 31, 10, 33, 15, 27, 22, 24, 36, 29, 36, 24, 10, 23,\n",
       "       31,  5,  2, 32, 16,  5, 38,  9, 16, 20, 24, 26, 13, 11,  2,  2, 23,\n",
       "       23,  5,  5, 15, 16,  2,  2, 27, 34,  2,  0, 38, 29, 24, 24, 33,  5,\n",
       "       38,  0, 22, 29,  2, 22,  5, 23, 10, 23, 24, 28,  3, 36,  2,  0,  0,\n",
       "        2, 33, 32, 29, 15,  5, 33, 37, 31, 34, 31, 16,  9, 23,  9,  2, 10,\n",
       "       10, 23,  9, 22, 17,  2,  2,  5, 24,  1, 31, 33,  5,  9, 24, 22,  9,\n",
       "        7, 23, 27, 19,  9, 22, 31, 39, 23, 23,  5,  7, 17, 10,  5, 36, 15,\n",
       "       38,  3,  0, 15, 34,  0,  5, 29, 15, 28, 31, 15, 27,  7, 17, 24, 10,\n",
       "       20, 27,  3, 36,  5, 33,  5, 23,  5, 21, 36, 15, 24, 10,  9, 13,  9,\n",
       "       22, 10, 10,  9, 38, 36,  2, 27,  3, 28, 24,  9, 11, 34, 12, 23, 16,\n",
       "       36, 16, 23, 14,  8, 33, 10, 29, 23,  1, 10, 24,  5, 11, 27,  9,  2,\n",
       "       38, 15, 17, 24, 10, 27,  2, 36,  5,  3, 30, 28, 27, 31, 10, 23, 29,\n",
       "       38, 24, 15, 31, 16, 15, 13, 12, 20,  7, 10, 11, 23,  6, 34, 36,  0,\n",
       "        5, 11,  9,  5, 16, 39, 27, 10, 10, 27, 27, 36, 24, 23, 24,  3,  2,\n",
       "        5,  2, 23, 24,  0, 14, 38,  1, 24, 23, 30,  0, 27, 19, 27,  5, 38,\n",
       "       23, 27,  9, 33, 31,  5, 26,  5, 11,  3, 29, 19,  0, 24,  0, 24, 24,\n",
       "       23,  0, 10, 10, 15, 27,  5, 38, 15, 15,  3, 33, 38, 36, 31, 28, 15,\n",
       "        9, 31, 10, 17, 15, 10,  2,  2, 11,  0,  2, 31, 10,  9, 23, 27, 38,\n",
       "       27,  2, 29,  2, 38, 31, 38, 25, 27,  3, 36, 20, 15, 27, 36, 13, 10,\n",
       "       15,  9, 24, 23,  9,  2, 10,  2, 20, 33, 15, 38, 16, 15, 10, 24, 15,\n",
       "       24, 15,  0,  3, 33, 31, 11,  9, 15,  9, 10, 27, 39, 26,  5, 24, 27,\n",
       "       24,  0, 30, 31, 36, 31, 24,  7, 23,  5, 13, 22,  5, 23, 23, 23, 39,\n",
       "       24,  5, 15, 11,  9, 10, 16, 33, 16, 10, 24,  2, 29, 33,  9, 13, 25,\n",
       "       28, 15,  9,  9, 31, 36,  5, 34, 33, 15, 13, 23, 36, 15,  2, 24, 31,\n",
       "       34,  9, 10, 31, 31, 36, 24, 23,  9, 27,  5, 18, 25,  7,  5,  2, 24,\n",
       "       16, 33,  5, 27, 23, 15, 24, 36, 24, 38,  2, 27,  3, 13,  8,  2, 24,\n",
       "        9, 10, 18, 23, 27, 18, 29, 29, 36, 29, 15,  3, 33, 15, 23, 10, 29,\n",
       "        0, 23, 27,  5, 31, 36, 23, 24, 20, 10, 38, 10, 24, 24, 23,  9, 15,\n",
       "        5, 27, 28,  5, 30, 29, 20, 24, 24, 10, 36,  5, 27, 23, 23, 31, 10,\n",
       "       37, 39,  2, 16, 20, 32, 24, 15,  2, 23,  6,  9,  2,  5,  5, 15, 13,\n",
       "       36, 16, 34, 16,  1, 34, 39, 18, 31, 35, 37, 15, 10, 23, 37, 36, 16,\n",
       "       38, 13, 33, 38, 24, 22, 27,  7,  2, 33, 16, 33, 19, 31,  5, 36,  2,\n",
       "       36, 38, 28, 39, 28, 15,  4, 28,  5, 23,  0, 37, 22, 10, 23,  2,  8,\n",
       "       15,  9, 30, 38, 36, 38, 21,  2, 33, 36, 19, 10,  2,  2, 25, 23,  2,\n",
       "        2,  2, 13, 36, 37, 24, 37, 31,  9, 24,  5,  0, 16,  2, 36, 16, 36,\n",
       "       33,  1,  4, 23, 24, 10,  5, 24, 10, 29,  2, 36, 28,  9, 13,  5, 23,\n",
       "       24, 16, 24, 23,  2,  5, 15, 36, 20, 31, 34, 11, 23,  2, 16, 13, 27,\n",
       "       31, 31, 36, 38, 16, 36, 33, 10, 27,  5,  2,  2,  2,  2, 15, 23, 30,\n",
       "       31, 31, 34, 24, 11, 24, 31, 16, 39,  5, 16,  2, 16, 15, 27,  2, 27,\n",
       "       10, 34, 16, 10,  2, 24, 24, 22, 23,  5, 18, 29,  5,  2, 23, 31, 24,\n",
       "       31,  9,  8, 23, 10, 15,  8, 27,  5, 34, 10, 10, 31, 10, 24, 16, 10,\n",
       "       35,  9, 13, 39, 29, 27, 36, 24, 11, 27, 12, 16, 38, 36, 33, 27, 14,\n",
       "       22, 31, 27, 34, 34, 24, 36, 38, 23, 16, 34, 31,  5, 23,  2,  5, 24,\n",
       "       31, 38, 28, 31,  9, 13, 31, 38,  4, 29, 27, 36, 10, 24, 24, 11, 28,\n",
       "       39, 34, 10,  3,  3, 12,  0, 24, 16,  5,  9])"
      ]
     },
     "execution_count": 12,
     "metadata": {},
     "output_type": "execute_result"
    }
   ],
   "source": [
    "mlkmeans.predict(data[['price',  'battery']].to_numpy())"
   ]
  },
  {
   "cell_type": "code",
   "execution_count": 59,
   "id": "940453c4-acaa-48ef-b094-51395ce873cd",
   "metadata": {
    "scrolled": true
   },
   "outputs": [],
   "source": [
    "def find_smartphone(features, tmp_data):\n",
    "    import statistics\n",
    "    \n",
    "    keys = []\n",
    "    mask = []\n",
    "\n",
    "    for key in features.keys():\n",
    "        if features[key] is not None:\n",
    "            mask.append(features[key])\n",
    "            keys.append(key)\n",
    "    \n",
    "    tmp_data = data        \n",
    "    if 'Brand' in features:\n",
    "        brands = features['Brand']\n",
    "        brands = tuple(map(str.lower, brands))\n",
    "        tmp_data[tmp_data.smartphone.str.startswith(brands)]\n",
    "\n",
    "    tmp_data = tmp_data[keys]\n",
    "    ml = KMeans(n_clusters=40).fit(tmp_data.to_numpy())\n",
    "    tmp_data['ml'] = ml.predict(tmp_data.to_numpy())\n",
    "    s = []\n",
    "    for i in keys:\n",
    "        s.append(statistics.mean(features[i]))\n",
    "    to_return = ml.predict([s])\n",
    "    tmp_data = tmp_data[tmp_data['ml'] == to_return.tolist()[0]]\n",
    "\n",
    "        \n",
    "    return to_return, data.iloc[tmp_data.index]"
   ]
  },
  {
   "cell_type": "code",
   "execution_count": 60,
   "id": "84da21b2-a9bf-4d56-8fad-4bfa96158519",
   "metadata": {
    "scrolled": true
   },
   "outputs": [
    {
     "ename": "KeyError",
     "evalue": "\"['Brand'] not in index\"",
     "output_type": "error",
     "traceback": [
      "\u001b[1;31m---------------------------------------------------------------------------\u001b[0m",
      "\u001b[1;31mKeyError\u001b[0m                                  Traceback (most recent call last)",
      "Cell \u001b[1;32mIn[60], line 1\u001b[0m\n\u001b[1;32m----> 1\u001b[0m qq \u001b[38;5;241m=\u001b[39m find_smartphone({\u001b[38;5;124m'\u001b[39m\u001b[38;5;124mprice\u001b[39m\u001b[38;5;124m'\u001b[39m: [\u001b[38;5;241m122000\u001b[39m], \u001b[38;5;124m'\u001b[39m\u001b[38;5;124mbattery\u001b[39m\u001b[38;5;124m'\u001b[39m: [\u001b[38;5;241m5000\u001b[39m, \u001b[38;5;241m6000\u001b[39m], \u001b[38;5;124m'\u001b[39m\u001b[38;5;124minbuilt memory\u001b[39m\u001b[38;5;124m'\u001b[39m: [\u001b[38;5;241m1231231\u001b[39m], \u001b[38;5;124m'\u001b[39m\u001b[38;5;124mBrand\u001b[39m\u001b[38;5;124m'\u001b[39m: [\u001b[38;5;124m'\u001b[39m\u001b[38;5;124mApple\u001b[39m\u001b[38;5;124m'\u001b[39m]}, data)\n\u001b[0;32m      2\u001b[0m qq[\u001b[38;5;241m1\u001b[39m]\n",
      "Cell \u001b[1;32mIn[59], line 18\u001b[0m, in \u001b[0;36mfind_smartphone\u001b[1;34m(features, tmp_data)\u001b[0m\n\u001b[0;32m     15\u001b[0m     brands \u001b[38;5;241m=\u001b[39m \u001b[38;5;28mtuple\u001b[39m(\u001b[38;5;28mmap\u001b[39m(\u001b[38;5;28mstr\u001b[39m\u001b[38;5;241m.\u001b[39mlower, brands))\n\u001b[0;32m     16\u001b[0m     tmp_data[tmp_data\u001b[38;5;241m.\u001b[39msmartphone\u001b[38;5;241m.\u001b[39mstr\u001b[38;5;241m.\u001b[39mstartswith(brands)]\n\u001b[1;32m---> 18\u001b[0m tmp_data \u001b[38;5;241m=\u001b[39m tmp_data[keys]\n\u001b[0;32m     19\u001b[0m ml \u001b[38;5;241m=\u001b[39m KMeans(n_clusters\u001b[38;5;241m=\u001b[39m\u001b[38;5;241m40\u001b[39m)\u001b[38;5;241m.\u001b[39mfit(tmp_data\u001b[38;5;241m.\u001b[39mto_numpy())\n\u001b[0;32m     20\u001b[0m tmp_data[\u001b[38;5;124m'\u001b[39m\u001b[38;5;124mml\u001b[39m\u001b[38;5;124m'\u001b[39m] \u001b[38;5;241m=\u001b[39m ml\u001b[38;5;241m.\u001b[39mpredict(tmp_data\u001b[38;5;241m.\u001b[39mto_numpy())\n",
      "File \u001b[1;32m~\\anaconda3\\Lib\\site-packages\\pandas\\core\\frame.py:3899\u001b[0m, in \u001b[0;36mDataFrame.__getitem__\u001b[1;34m(self, key)\u001b[0m\n\u001b[0;32m   3897\u001b[0m     \u001b[38;5;28;01mif\u001b[39;00m is_iterator(key):\n\u001b[0;32m   3898\u001b[0m         key \u001b[38;5;241m=\u001b[39m \u001b[38;5;28mlist\u001b[39m(key)\n\u001b[1;32m-> 3899\u001b[0m     indexer \u001b[38;5;241m=\u001b[39m \u001b[38;5;28mself\u001b[39m\u001b[38;5;241m.\u001b[39mcolumns\u001b[38;5;241m.\u001b[39m_get_indexer_strict(key, \u001b[38;5;124m\"\u001b[39m\u001b[38;5;124mcolumns\u001b[39m\u001b[38;5;124m\"\u001b[39m)[\u001b[38;5;241m1\u001b[39m]\n\u001b[0;32m   3901\u001b[0m \u001b[38;5;66;03m# take() does not accept boolean indexers\u001b[39;00m\n\u001b[0;32m   3902\u001b[0m \u001b[38;5;28;01mif\u001b[39;00m \u001b[38;5;28mgetattr\u001b[39m(indexer, \u001b[38;5;124m\"\u001b[39m\u001b[38;5;124mdtype\u001b[39m\u001b[38;5;124m\"\u001b[39m, \u001b[38;5;28;01mNone\u001b[39;00m) \u001b[38;5;241m==\u001b[39m \u001b[38;5;28mbool\u001b[39m:\n",
      "File \u001b[1;32m~\\anaconda3\\Lib\\site-packages\\pandas\\core\\indexes\\base.py:6115\u001b[0m, in \u001b[0;36mIndex._get_indexer_strict\u001b[1;34m(self, key, axis_name)\u001b[0m\n\u001b[0;32m   6112\u001b[0m \u001b[38;5;28;01melse\u001b[39;00m:\n\u001b[0;32m   6113\u001b[0m     keyarr, indexer, new_indexer \u001b[38;5;241m=\u001b[39m \u001b[38;5;28mself\u001b[39m\u001b[38;5;241m.\u001b[39m_reindex_non_unique(keyarr)\n\u001b[1;32m-> 6115\u001b[0m \u001b[38;5;28mself\u001b[39m\u001b[38;5;241m.\u001b[39m_raise_if_missing(keyarr, indexer, axis_name)\n\u001b[0;32m   6117\u001b[0m keyarr \u001b[38;5;241m=\u001b[39m \u001b[38;5;28mself\u001b[39m\u001b[38;5;241m.\u001b[39mtake(indexer)\n\u001b[0;32m   6118\u001b[0m \u001b[38;5;28;01mif\u001b[39;00m \u001b[38;5;28misinstance\u001b[39m(key, Index):\n\u001b[0;32m   6119\u001b[0m     \u001b[38;5;66;03m# GH 42790 - Preserve name from an Index\u001b[39;00m\n",
      "File \u001b[1;32m~\\anaconda3\\Lib\\site-packages\\pandas\\core\\indexes\\base.py:6179\u001b[0m, in \u001b[0;36mIndex._raise_if_missing\u001b[1;34m(self, key, indexer, axis_name)\u001b[0m\n\u001b[0;32m   6176\u001b[0m     \u001b[38;5;28;01mraise\u001b[39;00m \u001b[38;5;167;01mKeyError\u001b[39;00m(\u001b[38;5;124mf\u001b[39m\u001b[38;5;124m\"\u001b[39m\u001b[38;5;124mNone of [\u001b[39m\u001b[38;5;132;01m{\u001b[39;00mkey\u001b[38;5;132;01m}\u001b[39;00m\u001b[38;5;124m] are in the [\u001b[39m\u001b[38;5;132;01m{\u001b[39;00maxis_name\u001b[38;5;132;01m}\u001b[39;00m\u001b[38;5;124m]\u001b[39m\u001b[38;5;124m\"\u001b[39m)\n\u001b[0;32m   6178\u001b[0m not_found \u001b[38;5;241m=\u001b[39m \u001b[38;5;28mlist\u001b[39m(ensure_index(key)[missing_mask\u001b[38;5;241m.\u001b[39mnonzero()[\u001b[38;5;241m0\u001b[39m]]\u001b[38;5;241m.\u001b[39munique())\n\u001b[1;32m-> 6179\u001b[0m \u001b[38;5;28;01mraise\u001b[39;00m \u001b[38;5;167;01mKeyError\u001b[39;00m(\u001b[38;5;124mf\u001b[39m\u001b[38;5;124m\"\u001b[39m\u001b[38;5;132;01m{\u001b[39;00mnot_found\u001b[38;5;132;01m}\u001b[39;00m\u001b[38;5;124m not in index\u001b[39m\u001b[38;5;124m\"\u001b[39m)\n",
      "\u001b[1;31mKeyError\u001b[0m: \"['Brand'] not in index\""
     ]
    }
   ],
   "source": [
    "qq = find_smartphone({'price': [122000], 'battery': [5000, 6000], 'inbuilt memory': [1231231], 'Brand': ['Apple']}, data)\n",
    "qq[1]"
   ]
  },
  {
   "cell_type": "code",
   "execution_count": 54,
   "id": "b4e19a95-55eb-4500-ab6b-3ee801e0082b",
   "metadata": {
    "scrolled": true
   },
   "outputs": [
    {
     "data": {
      "text/html": [
       "<div>\n",
       "<style scoped>\n",
       "    .dataframe tbody tr th:only-of-type {\n",
       "        vertical-align: middle;\n",
       "    }\n",
       "\n",
       "    .dataframe tbody tr th {\n",
       "        vertical-align: top;\n",
       "    }\n",
       "\n",
       "    .dataframe thead th {\n",
       "        text-align: right;\n",
       "    }\n",
       "</style>\n",
       "<table border=\"1\" class=\"dataframe\">\n",
       "  <thead>\n",
       "    <tr style=\"text-align: right;\">\n",
       "      <th></th>\n",
       "      <th>rating</th>\n",
       "      <th>price</th>\n",
       "      <th>inbuilt memory</th>\n",
       "      <th>battery</th>\n",
       "      <th>camera</th>\n",
       "      <th>smartphone</th>\n",
       "    </tr>\n",
       "  </thead>\n",
       "  <tbody>\n",
       "  </tbody>\n",
       "</table>\n",
       "</div>"
      ],
      "text/plain": [
       "Empty DataFrame\n",
       "Columns: [rating, price, inbuilt memory, battery, camera, smartphone]\n",
       "Index: []"
      ]
     },
     "execution_count": 54,
     "metadata": {},
     "output_type": "execute_result"
    }
   ],
   "source": [
    "data[data.smartphone.str.startswith(('apple'))]"
   ]
  },
  {
   "cell_type": "code",
   "execution_count": null,
   "id": "fa7f5cd9-62b6-4603-b559-457d320a608f",
   "metadata": {},
   "outputs": [],
   "source": []
  }
 ],
 "metadata": {
  "kernelspec": {
   "display_name": "Python 3 (ipykernel)",
   "language": "python",
   "name": "python3"
  },
  "language_info": {
   "codemirror_mode": {
    "name": "ipython",
    "version": 3
   },
   "file_extension": ".py",
   "mimetype": "text/x-python",
   "name": "python",
   "nbconvert_exporter": "python",
   "pygments_lexer": "ipython3",
   "version": "3.11.7"
  }
 },
 "nbformat": 4,
 "nbformat_minor": 5
}
