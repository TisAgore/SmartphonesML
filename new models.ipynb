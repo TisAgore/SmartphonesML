{
 "cells": [
  {
   "cell_type": "code",
   "execution_count": 1,
   "id": "fa8bd8a7-cc01-4f41-aaa0-73b52691392f",
   "metadata": {},
   "outputs": [],
   "source": [
    "import pandas as pd\n",
    "import numpy as np"
   ]
  },
  {
   "cell_type": "code",
   "execution_count": 2,
   "id": "7a05be46-ca23-4a29-8182-1dbdf9552a02",
   "metadata": {},
   "outputs": [],
   "source": [
    "data = pd.read_csv('CLEAR_DATASET.csv')"
   ]
  },
  {
   "cell_type": "code",
   "execution_count": 3,
   "id": "5e20993c-4f89-40be-bd06-f9aa9fe23c48",
   "metadata": {},
   "outputs": [
    {
     "data": {
      "text/html": [
       "<div>\n",
       "<style scoped>\n",
       "    .dataframe tbody tr th:only-of-type {\n",
       "        vertical-align: middle;\n",
       "    }\n",
       "\n",
       "    .dataframe tbody tr th {\n",
       "        vertical-align: top;\n",
       "    }\n",
       "\n",
       "    .dataframe thead th {\n",
       "        text-align: right;\n",
       "    }\n",
       "</style>\n",
       "<table border=\"1\" class=\"dataframe\">\n",
       "  <thead>\n",
       "    <tr style=\"text-align: right;\">\n",
       "      <th></th>\n",
       "      <th>price</th>\n",
       "      <th>inbuilt memory</th>\n",
       "      <th>battery</th>\n",
       "      <th>camera</th>\n",
       "    </tr>\n",
       "  </thead>\n",
       "  <tbody>\n",
       "    <tr>\n",
       "      <th>0</th>\n",
       "      <td>61048.89</td>\n",
       "      <td>256.0</td>\n",
       "      <td>5000.0</td>\n",
       "      <td>50.0</td>\n",
       "    </tr>\n",
       "    <tr>\n",
       "      <th>1</th>\n",
       "      <td>22187.79</td>\n",
       "      <td>128.0</td>\n",
       "      <td>5000.0</td>\n",
       "      <td>64.0</td>\n",
       "    </tr>\n",
       "    <tr>\n",
       "      <th>2</th>\n",
       "      <td>18313.89</td>\n",
       "      <td>64.0</td>\n",
       "      <td>5000.0</td>\n",
       "      <td>50.0</td>\n",
       "    </tr>\n",
       "    <tr>\n",
       "      <th>3</th>\n",
       "      <td>16648.89</td>\n",
       "      <td>128.0</td>\n",
       "      <td>5000.0</td>\n",
       "      <td>50.0</td>\n",
       "    </tr>\n",
       "    <tr>\n",
       "      <th>4</th>\n",
       "      <td>27748.89</td>\n",
       "      <td>128.0</td>\n",
       "      <td>5000.0</td>\n",
       "      <td>108.0</td>\n",
       "    </tr>\n",
       "  </tbody>\n",
       "</table>\n",
       "</div>"
      ],
      "text/plain": [
       "      price  inbuilt memory  battery  camera\n",
       "0  61048.89           256.0   5000.0    50.0\n",
       "1  22187.79           128.0   5000.0    64.0\n",
       "2  18313.89            64.0   5000.0    50.0\n",
       "3  16648.89           128.0   5000.0    50.0\n",
       "4  27748.89           128.0   5000.0   108.0"
      ]
     },
     "execution_count": 3,
     "metadata": {},
     "output_type": "execute_result"
    }
   ],
   "source": [
    "del data['Unnamed: 0']\n",
    "del data['display hz']\n",
    "del data['display size']\n",
    "\n",
    "rating = data['rating']\n",
    "del data['rating']\n",
    "smartphones = data['smartphone']\n",
    "del data['smartphone']\n",
    "\n",
    "data.head()"
   ]
  },
  {
   "cell_type": "code",
   "execution_count": 4,
   "id": "52feee9d-4cb2-42b7-869c-bebc7d929066",
   "metadata": {},
   "outputs": [
    {
     "name": "stdout",
     "output_type": "stream",
     "text": [
      "<class 'pandas.core.frame.DataFrame'>\n",
      "RangeIndex: 953 entries, 0 to 952\n",
      "Data columns (total 4 columns):\n",
      " #   Column          Non-Null Count  Dtype  \n",
      "---  ------          --------------  -----  \n",
      " 0   price           953 non-null    float64\n",
      " 1   inbuilt memory  953 non-null    float64\n",
      " 2   battery         953 non-null    float64\n",
      " 3   camera          953 non-null    float64\n",
      "dtypes: float64(4)\n",
      "memory usage: 29.9 KB\n"
     ]
    }
   ],
   "source": [
    "data.info()"
   ]
  },
  {
   "cell_type": "code",
   "execution_count": 5,
   "id": "b5ba6e96-d177-4de9-8375-1bee29c84ebd",
   "metadata": {},
   "outputs": [],
   "source": [
    "from sklearn.preprocessing import StandardScaler"
   ]
  },
  {
   "cell_type": "code",
   "execution_count": 6,
   "id": "d8a1fbdb-264f-48fc-9852-8cdd3f8a368c",
   "metadata": {},
   "outputs": [
    {
     "data": {
      "text/html": [
       "<div>\n",
       "<style scoped>\n",
       "    .dataframe tbody tr th:only-of-type {\n",
       "        vertical-align: middle;\n",
       "    }\n",
       "\n",
       "    .dataframe tbody tr th {\n",
       "        vertical-align: top;\n",
       "    }\n",
       "\n",
       "    .dataframe thead th {\n",
       "        text-align: right;\n",
       "    }\n",
       "</style>\n",
       "<table border=\"1\" class=\"dataframe\">\n",
       "  <thead>\n",
       "    <tr style=\"text-align: right;\">\n",
       "      <th></th>\n",
       "      <th>price</th>\n",
       "      <th>inbuilt memory</th>\n",
       "      <th>battery</th>\n",
       "      <th>camera</th>\n",
       "    </tr>\n",
       "  </thead>\n",
       "  <tbody>\n",
       "    <tr>\n",
       "      <th>0</th>\n",
       "      <td>0.856494</td>\n",
       "      <td>1.110644</td>\n",
       "      <td>0.352049</td>\n",
       "      <td>-0.015525</td>\n",
       "    </tr>\n",
       "    <tr>\n",
       "      <th>1</th>\n",
       "      <td>-0.354611</td>\n",
       "      <td>-0.107008</td>\n",
       "      <td>0.352049</td>\n",
       "      <td>0.413582</td>\n",
       "    </tr>\n",
       "    <tr>\n",
       "      <th>2</th>\n",
       "      <td>-0.475341</td>\n",
       "      <td>-0.715833</td>\n",
       "      <td>0.352049</td>\n",
       "      <td>-0.015525</td>\n",
       "    </tr>\n",
       "    <tr>\n",
       "      <th>3</th>\n",
       "      <td>-0.527230</td>\n",
       "      <td>-0.107008</td>\n",
       "      <td>0.352049</td>\n",
       "      <td>-0.015525</td>\n",
       "    </tr>\n",
       "    <tr>\n",
       "      <th>4</th>\n",
       "      <td>-0.181299</td>\n",
       "      <td>-0.107008</td>\n",
       "      <td>0.352049</td>\n",
       "      <td>1.762204</td>\n",
       "    </tr>\n",
       "  </tbody>\n",
       "</table>\n",
       "</div>"
      ],
      "text/plain": [
       "      price  inbuilt memory   battery    camera\n",
       "0  0.856494        1.110644  0.352049 -0.015525\n",
       "1 -0.354611       -0.107008  0.352049  0.413582\n",
       "2 -0.475341       -0.715833  0.352049 -0.015525\n",
       "3 -0.527230       -0.107008  0.352049 -0.015525\n",
       "4 -0.181299       -0.107008  0.352049  1.762204"
      ]
     },
     "execution_count": 6,
     "metadata": {},
     "output_type": "execute_result"
    }
   ],
   "source": [
    "StdScaler = StandardScaler()\n",
    "StdScaler.fit(data)\n",
    "\n",
    "data = pd.DataFrame(data=StdScaler.transform(data), columns=data.columns)\n",
    "data.head()"
   ]
  },
  {
   "cell_type": "code",
   "execution_count": 7,
   "id": "a5b61e2c-a55c-4681-91e1-5a1984910a79",
   "metadata": {},
   "outputs": [],
   "source": [
    "from sklearn.cluster import KMeans\n"
   ]
  },
  {
   "cell_type": "code",
   "execution_count": 8,
   "id": "d28cf3e4-3665-4b4c-9731-06cf92cbf8dc",
   "metadata": {},
   "outputs": [
    {
     "name": "stderr",
     "output_type": "stream",
     "text": [
      "C:\\Users\\bigbl\\anaconda3\\Lib\\site-packages\\sklearn\\cluster\\_kmeans.py:870: FutureWarning: The default value of `n_init` will change from 10 to 'auto' in 1.4. Set the value of `n_init` explicitly to suppress the warning\n",
      "  warnings.warn(\n",
      "C:\\Users\\bigbl\\anaconda3\\Lib\\site-packages\\sklearn\\cluster\\_kmeans.py:1382: UserWarning: KMeans is known to have a memory leak on Windows with MKL, when there are less chunks than available threads. You can avoid it by setting the environment variable OMP_NUM_THREADS=4.\n",
      "  warnings.warn(\n"
     ]
    },
    {
     "data": {
      "text/html": [
       "<style>#sk-container-id-1 {color: black;background-color: white;}#sk-container-id-1 pre{padding: 0;}#sk-container-id-1 div.sk-toggleable {background-color: white;}#sk-container-id-1 label.sk-toggleable__label {cursor: pointer;display: block;width: 100%;margin-bottom: 0;padding: 0.3em;box-sizing: border-box;text-align: center;}#sk-container-id-1 label.sk-toggleable__label-arrow:before {content: \"▸\";float: left;margin-right: 0.25em;color: #696969;}#sk-container-id-1 label.sk-toggleable__label-arrow:hover:before {color: black;}#sk-container-id-1 div.sk-estimator:hover label.sk-toggleable__label-arrow:before {color: black;}#sk-container-id-1 div.sk-toggleable__content {max-height: 0;max-width: 0;overflow: hidden;text-align: left;background-color: #f0f8ff;}#sk-container-id-1 div.sk-toggleable__content pre {margin: 0.2em;color: black;border-radius: 0.25em;background-color: #f0f8ff;}#sk-container-id-1 input.sk-toggleable__control:checked~div.sk-toggleable__content {max-height: 200px;max-width: 100%;overflow: auto;}#sk-container-id-1 input.sk-toggleable__control:checked~label.sk-toggleable__label-arrow:before {content: \"▾\";}#sk-container-id-1 div.sk-estimator input.sk-toggleable__control:checked~label.sk-toggleable__label {background-color: #d4ebff;}#sk-container-id-1 div.sk-label input.sk-toggleable__control:checked~label.sk-toggleable__label {background-color: #d4ebff;}#sk-container-id-1 input.sk-hidden--visually {border: 0;clip: rect(1px 1px 1px 1px);clip: rect(1px, 1px, 1px, 1px);height: 1px;margin: -1px;overflow: hidden;padding: 0;position: absolute;width: 1px;}#sk-container-id-1 div.sk-estimator {font-family: monospace;background-color: #f0f8ff;border: 1px dotted black;border-radius: 0.25em;box-sizing: border-box;margin-bottom: 0.5em;}#sk-container-id-1 div.sk-estimator:hover {background-color: #d4ebff;}#sk-container-id-1 div.sk-parallel-item::after {content: \"\";width: 100%;border-bottom: 1px solid gray;flex-grow: 1;}#sk-container-id-1 div.sk-label:hover label.sk-toggleable__label {background-color: #d4ebff;}#sk-container-id-1 div.sk-serial::before {content: \"\";position: absolute;border-left: 1px solid gray;box-sizing: border-box;top: 0;bottom: 0;left: 50%;z-index: 0;}#sk-container-id-1 div.sk-serial {display: flex;flex-direction: column;align-items: center;background-color: white;padding-right: 0.2em;padding-left: 0.2em;position: relative;}#sk-container-id-1 div.sk-item {position: relative;z-index: 1;}#sk-container-id-1 div.sk-parallel {display: flex;align-items: stretch;justify-content: center;background-color: white;position: relative;}#sk-container-id-1 div.sk-item::before, #sk-container-id-1 div.sk-parallel-item::before {content: \"\";position: absolute;border-left: 1px solid gray;box-sizing: border-box;top: 0;bottom: 0;left: 50%;z-index: -1;}#sk-container-id-1 div.sk-parallel-item {display: flex;flex-direction: column;z-index: 1;position: relative;background-color: white;}#sk-container-id-1 div.sk-parallel-item:first-child::after {align-self: flex-end;width: 50%;}#sk-container-id-1 div.sk-parallel-item:last-child::after {align-self: flex-start;width: 50%;}#sk-container-id-1 div.sk-parallel-item:only-child::after {width: 0;}#sk-container-id-1 div.sk-dashed-wrapped {border: 1px dashed gray;margin: 0 0.4em 0.5em 0.4em;box-sizing: border-box;padding-bottom: 0.4em;background-color: white;}#sk-container-id-1 div.sk-label label {font-family: monospace;font-weight: bold;display: inline-block;line-height: 1.2em;}#sk-container-id-1 div.sk-label-container {text-align: center;}#sk-container-id-1 div.sk-container {/* jupyter's `normalize.less` sets `[hidden] { display: none; }` but bootstrap.min.css set `[hidden] { display: none !important; }` so we also need the `!important` here to be able to override the default hidden behavior on the sphinx rendered scikit-learn.org. See: https://github.com/scikit-learn/scikit-learn/issues/21755 */display: inline-block !important;position: relative;}#sk-container-id-1 div.sk-text-repr-fallback {display: none;}</style><div id=\"sk-container-id-1\" class=\"sk-top-container\"><div class=\"sk-text-repr-fallback\"><pre>KMeans(random_state=42)</pre><b>In a Jupyter environment, please rerun this cell to show the HTML representation or trust the notebook. <br />On GitHub, the HTML representation is unable to render, please try loading this page with nbviewer.org.</b></div><div class=\"sk-container\" hidden><div class=\"sk-item\"><div class=\"sk-estimator sk-toggleable\"><input class=\"sk-toggleable__control sk-hidden--visually\" id=\"sk-estimator-id-1\" type=\"checkbox\" checked><label for=\"sk-estimator-id-1\" class=\"sk-toggleable__label sk-toggleable__label-arrow\">KMeans</label><div class=\"sk-toggleable__content\"><pre>KMeans(random_state=42)</pre></div></div></div></div></div>"
      ],
      "text/plain": [
       "KMeans(random_state=42)"
      ]
     },
     "execution_count": 8,
     "metadata": {},
     "output_type": "execute_result"
    }
   ],
   "source": [
    "MAIN_model = KMeans(random_state=42)\n",
    "MAIN_model.fit(data)"
   ]
  },
  {
   "cell_type": "code",
   "execution_count": 9,
   "id": "b5ccd83f-c1a6-42f4-9ce9-c34a561eb565",
   "metadata": {},
   "outputs": [
    {
     "name": "stderr",
     "output_type": "stream",
     "text": [
      "C:\\Users\\bigbl\\anaconda3\\Lib\\site-packages\\sklearn\\base.py:439: UserWarning: X does not have valid feature names, but StandardScaler was fitted with feature names\n",
      "  warnings.warn(\n"
     ]
    },
    {
     "data": {
      "text/plain": [
       "array([[0.51215613, 1.11064374, 0.35204921, 0.4135823 ]])"
      ]
     },
     "execution_count": 9,
     "metadata": {},
     "output_type": "execute_result"
    }
   ],
   "source": [
    "test = [50000, 256, 5000, 64]\n",
    "test = StdScaler.transform([test])\n",
    "StdScaler.inverse_transform"
   ]
  },
  {
   "cell_type": "code",
   "execution_count": 10,
   "id": "292d11d6-8779-492c-bfcc-a2df96197515",
   "metadata": {},
   "outputs": [
    {
     "data": {
      "text/html": [
       "<div>\n",
       "<style scoped>\n",
       "    .dataframe tbody tr th:only-of-type {\n",
       "        vertical-align: middle;\n",
       "    }\n",
       "\n",
       "    .dataframe tbody tr th {\n",
       "        vertical-align: top;\n",
       "    }\n",
       "\n",
       "    .dataframe thead th {\n",
       "        text-align: right;\n",
       "    }\n",
       "</style>\n",
       "<table border=\"1\" class=\"dataframe\">\n",
       "  <thead>\n",
       "    <tr style=\"text-align: right;\">\n",
       "      <th></th>\n",
       "      <th>price</th>\n",
       "      <th>inbuilt memory</th>\n",
       "      <th>battery</th>\n",
       "      <th>camera</th>\n",
       "      <th>MAIN_class</th>\n",
       "    </tr>\n",
       "  </thead>\n",
       "  <tbody>\n",
       "    <tr>\n",
       "      <th>0</th>\n",
       "      <td>0.856494</td>\n",
       "      <td>1.110644</td>\n",
       "      <td>0.352049</td>\n",
       "      <td>-0.015525</td>\n",
       "      <td>2</td>\n",
       "    </tr>\n",
       "    <tr>\n",
       "      <th>1</th>\n",
       "      <td>-0.354611</td>\n",
       "      <td>-0.107008</td>\n",
       "      <td>0.352049</td>\n",
       "      <td>0.413582</td>\n",
       "      <td>4</td>\n",
       "    </tr>\n",
       "    <tr>\n",
       "      <th>2</th>\n",
       "      <td>-0.475341</td>\n",
       "      <td>-0.715833</td>\n",
       "      <td>0.352049</td>\n",
       "      <td>-0.015525</td>\n",
       "      <td>4</td>\n",
       "    </tr>\n",
       "    <tr>\n",
       "      <th>3</th>\n",
       "      <td>-0.527230</td>\n",
       "      <td>-0.107008</td>\n",
       "      <td>0.352049</td>\n",
       "      <td>-0.015525</td>\n",
       "      <td>4</td>\n",
       "    </tr>\n",
       "    <tr>\n",
       "      <th>4</th>\n",
       "      <td>-0.181299</td>\n",
       "      <td>-0.107008</td>\n",
       "      <td>0.352049</td>\n",
       "      <td>1.762204</td>\n",
       "      <td>6</td>\n",
       "    </tr>\n",
       "  </tbody>\n",
       "</table>\n",
       "</div>"
      ],
      "text/plain": [
       "      price  inbuilt memory   battery    camera  MAIN_class\n",
       "0  0.856494        1.110644  0.352049 -0.015525           2\n",
       "1 -0.354611       -0.107008  0.352049  0.413582           4\n",
       "2 -0.475341       -0.715833  0.352049 -0.015525           4\n",
       "3 -0.527230       -0.107008  0.352049 -0.015525           4\n",
       "4 -0.181299       -0.107008  0.352049  1.762204           6"
      ]
     },
     "execution_count": 10,
     "metadata": {},
     "output_type": "execute_result"
    }
   ],
   "source": [
    "data['MAIN_class'] = MAIN_model.predict(data)\n",
    "data.head()"
   ]
  },
  {
   "cell_type": "code",
   "execution_count": 11,
   "id": "2b8dd8e5-68cb-4fd2-9a4a-0c4dfda0ed40",
   "metadata": {
    "scrolled": true
   },
   "outputs": [
    {
     "name": "stderr",
     "output_type": "stream",
     "text": [
      "C:\\Users\\bigbl\\anaconda3\\Lib\\site-packages\\sklearn\\cluster\\_kmeans.py:870: FutureWarning: The default value of `n_init` will change from 10 to 'auto' in 1.4. Set the value of `n_init` explicitly to suppress the warning\n",
      "  warnings.warn(\n",
      "C:\\Users\\bigbl\\anaconda3\\Lib\\site-packages\\sklearn\\cluster\\_kmeans.py:1382: UserWarning: KMeans is known to have a memory leak on Windows with MKL, when there are less chunks than available threads. You can avoid it by setting the environment variable OMP_NUM_THREADS=4.\n",
      "  warnings.warn(\n",
      "C:\\Users\\bigbl\\anaconda3\\Lib\\site-packages\\sklearn\\cluster\\_kmeans.py:870: FutureWarning: The default value of `n_init` will change from 10 to 'auto' in 1.4. Set the value of `n_init` explicitly to suppress the warning\n",
      "  warnings.warn(\n",
      "C:\\Users\\bigbl\\anaconda3\\Lib\\site-packages\\sklearn\\cluster\\_kmeans.py:1382: UserWarning: KMeans is known to have a memory leak on Windows with MKL, when there are less chunks than available threads. You can avoid it by setting the environment variable OMP_NUM_THREADS=4.\n",
      "  warnings.warn(\n",
      "C:\\Users\\bigbl\\anaconda3\\Lib\\site-packages\\sklearn\\cluster\\_kmeans.py:870: FutureWarning: The default value of `n_init` will change from 10 to 'auto' in 1.4. Set the value of `n_init` explicitly to suppress the warning\n",
      "  warnings.warn(\n",
      "C:\\Users\\bigbl\\anaconda3\\Lib\\site-packages\\sklearn\\cluster\\_kmeans.py:1382: UserWarning: KMeans is known to have a memory leak on Windows with MKL, when there are less chunks than available threads. You can avoid it by setting the environment variable OMP_NUM_THREADS=4.\n",
      "  warnings.warn(\n",
      "C:\\Users\\bigbl\\anaconda3\\Lib\\site-packages\\sklearn\\cluster\\_kmeans.py:870: FutureWarning: The default value of `n_init` will change from 10 to 'auto' in 1.4. Set the value of `n_init` explicitly to suppress the warning\n",
      "  warnings.warn(\n",
      "C:\\Users\\bigbl\\anaconda3\\Lib\\site-packages\\sklearn\\cluster\\_kmeans.py:1382: UserWarning: KMeans is known to have a memory leak on Windows with MKL, when there are less chunks than available threads. You can avoid it by setting the environment variable OMP_NUM_THREADS=4.\n",
      "  warnings.warn(\n"
     ]
    }
   ],
   "source": [
    "PRICE_model = KMeans(random_state=42).fit(data['price'].to_numpy().reshape(-1, 1))\n",
    "MEMORY_model = KMeans(random_state=42).fit(data['inbuilt memory'].to_numpy().reshape(-1, 1))\n",
    "BATTERY_model = KMeans(random_state=42).fit(data['battery'].to_numpy().reshape(-1, 1))\n",
    "CAMERA_model = KMeans(random_state=42).fit(data['camera'].to_numpy().reshape(-1, 1))"
   ]
  },
  {
   "cell_type": "code",
   "execution_count": 12,
   "id": "6840e214-95d5-419a-8e3f-81f4baf26acc",
   "metadata": {},
   "outputs": [],
   "source": [
    "data['price_class'] = PRICE_model.predict(data['price'].to_numpy().reshape(-1, 1))\n",
    "data['memory_class'] = MEMORY_model.predict(data['inbuilt memory'].to_numpy().reshape(-1, 1))\n",
    "data['battery_class'] = BATTERY_model.predict(data['battery'].to_numpy().reshape(-1, 1))\n",
    "data['camera_class'] = CAMERA_model.predict(data['camera'].to_numpy().reshape(-1, 1))"
   ]
  },
  {
   "cell_type": "code",
   "execution_count": 13,
   "id": "70b6eadb-35b1-44da-8dcd-d21835e9856e",
   "metadata": {},
   "outputs": [],
   "source": [
    "data['smartphones'] = smartphones\n",
    "data['rating'] = rating"
   ]
  },
  {
   "cell_type": "code",
   "execution_count": 14,
   "id": "1eab76e2-0dfa-4028-ac56-a4460b82f787",
   "metadata": {},
   "outputs": [
    {
     "data": {
      "text/html": [
       "<div>\n",
       "<style scoped>\n",
       "    .dataframe tbody tr th:only-of-type {\n",
       "        vertical-align: middle;\n",
       "    }\n",
       "\n",
       "    .dataframe tbody tr th {\n",
       "        vertical-align: top;\n",
       "    }\n",
       "\n",
       "    .dataframe thead th {\n",
       "        text-align: right;\n",
       "    }\n",
       "</style>\n",
       "<table border=\"1\" class=\"dataframe\">\n",
       "  <thead>\n",
       "    <tr style=\"text-align: right;\">\n",
       "      <th></th>\n",
       "      <th>price</th>\n",
       "      <th>inbuilt memory</th>\n",
       "      <th>battery</th>\n",
       "      <th>camera</th>\n",
       "      <th>MAIN_class</th>\n",
       "      <th>price_class</th>\n",
       "      <th>memory_class</th>\n",
       "      <th>battery_class</th>\n",
       "      <th>camera_class</th>\n",
       "      <th>smartphones</th>\n",
       "      <th>rating</th>\n",
       "    </tr>\n",
       "  </thead>\n",
       "  <tbody>\n",
       "    <tr>\n",
       "      <th>0</th>\n",
       "      <td>0.856494</td>\n",
       "      <td>1.110644</td>\n",
       "      <td>0.352049</td>\n",
       "      <td>-0.015525</td>\n",
       "      <td>2</td>\n",
       "      <td>2</td>\n",
       "      <td>1</td>\n",
       "      <td>1</td>\n",
       "      <td>0</td>\n",
       "      <td>oneplus 11 5g</td>\n",
       "      <td>89.0</td>\n",
       "    </tr>\n",
       "    <tr>\n",
       "      <th>1</th>\n",
       "      <td>-0.354611</td>\n",
       "      <td>-0.107008</td>\n",
       "      <td>0.352049</td>\n",
       "      <td>0.413582</td>\n",
       "      <td>4</td>\n",
       "      <td>0</td>\n",
       "      <td>0</td>\n",
       "      <td>1</td>\n",
       "      <td>4</td>\n",
       "      <td>oneplus nord ce 2 lite 5g</td>\n",
       "      <td>81.0</td>\n",
       "    </tr>\n",
       "    <tr>\n",
       "      <th>2</th>\n",
       "      <td>-0.475341</td>\n",
       "      <td>-0.715833</td>\n",
       "      <td>0.352049</td>\n",
       "      <td>-0.015525</td>\n",
       "      <td>4</td>\n",
       "      <td>0</td>\n",
       "      <td>3</td>\n",
       "      <td>1</td>\n",
       "      <td>0</td>\n",
       "      <td>samsung galaxy a14 5g</td>\n",
       "      <td>75.0</td>\n",
       "    </tr>\n",
       "    <tr>\n",
       "      <th>3</th>\n",
       "      <td>-0.527230</td>\n",
       "      <td>-0.107008</td>\n",
       "      <td>0.352049</td>\n",
       "      <td>-0.015525</td>\n",
       "      <td>4</td>\n",
       "      <td>0</td>\n",
       "      <td>0</td>\n",
       "      <td>1</td>\n",
       "      <td>0</td>\n",
       "      <td>motorola moto g62 5g</td>\n",
       "      <td>81.0</td>\n",
       "    </tr>\n",
       "    <tr>\n",
       "      <th>4</th>\n",
       "      <td>-0.181299</td>\n",
       "      <td>-0.107008</td>\n",
       "      <td>0.352049</td>\n",
       "      <td>1.762204</td>\n",
       "      <td>6</td>\n",
       "      <td>5</td>\n",
       "      <td>0</td>\n",
       "      <td>1</td>\n",
       "      <td>1</td>\n",
       "      <td>realme 10 pro plus</td>\n",
       "      <td>82.0</td>\n",
       "    </tr>\n",
       "  </tbody>\n",
       "</table>\n",
       "</div>"
      ],
      "text/plain": [
       "      price  inbuilt memory   battery    camera  MAIN_class  price_class  \\\n",
       "0  0.856494        1.110644  0.352049 -0.015525           2            2   \n",
       "1 -0.354611       -0.107008  0.352049  0.413582           4            0   \n",
       "2 -0.475341       -0.715833  0.352049 -0.015525           4            0   \n",
       "3 -0.527230       -0.107008  0.352049 -0.015525           4            0   \n",
       "4 -0.181299       -0.107008  0.352049  1.762204           6            5   \n",
       "\n",
       "   memory_class  battery_class  camera_class                smartphones  \\\n",
       "0             1              1             0              oneplus 11 5g   \n",
       "1             0              1             4  oneplus nord ce 2 lite 5g   \n",
       "2             3              1             0      samsung galaxy a14 5g   \n",
       "3             0              1             0       motorola moto g62 5g   \n",
       "4             0              1             1         realme 10 pro plus   \n",
       "\n",
       "   rating  \n",
       "0    89.0  \n",
       "1    81.0  \n",
       "2    75.0  \n",
       "3    81.0  \n",
       "4    82.0  "
      ]
     },
     "execution_count": 14,
     "metadata": {},
     "output_type": "execute_result"
    }
   ],
   "source": [
    "data.head()"
   ]
  },
  {
   "cell_type": "code",
   "execution_count": 15,
   "id": "a49e0dc9-6450-404f-b9be-102b6179de86",
   "metadata": {},
   "outputs": [],
   "source": [
    "data.to_csv('Data_with_CLASSES.csv')"
   ]
  },
  {
   "cell_type": "code",
   "execution_count": 16,
   "id": "971f9085-e05d-4722-8156-e398dfc1e9f2",
   "metadata": {},
   "outputs": [],
   "source": [
    "MODELS = {\n",
    "    'main': MAIN_model,\n",
    "    'price': PRICE_model,\n",
    "    'memory': MEMORY_model,\n",
    "    'battery': BATTERY_model,\n",
    "    'camera': CAMERA_model,\n",
    "    'scaler': StdScaler\n",
    "}"
   ]
  },
  {
   "cell_type": "code",
   "execution_count": 17,
   "id": "be6d4993-c264-40ac-8fce-76ae675e5cd8",
   "metadata": {},
   "outputs": [],
   "source": [
    "import pickle\n",
    "with open(\"ML_MODELS.pickle\", \"wb\") as file:\n",
    "    pickle.dump(MODELS, file)"
   ]
  },
  {
   "cell_type": "code",
   "execution_count": 18,
   "id": "50acca6f-b073-4f6f-9ffb-4bb5b24b96be",
   "metadata": {},
   "outputs": [],
   "source": [
    "with open(\"ML_MODELS.pickle\", \"rb\") as file:\n",
    "    testing = pickle.load(file)"
   ]
  },
  {
   "cell_type": "code",
   "execution_count": null,
   "id": "db75608e-bf06-4b37-a34f-21f7a8093c96",
   "metadata": {},
   "outputs": [],
   "source": []
  },
  {
   "cell_type": "code",
   "execution_count": 42,
   "id": "9cd58b62-bacf-4d9f-83c4-afcd5b358dcc",
   "metadata": {},
   "outputs": [
    {
     "data": {
      "text/html": [
       "<div>\n",
       "<style scoped>\n",
       "    .dataframe tbody tr th:only-of-type {\n",
       "        vertical-align: middle;\n",
       "    }\n",
       "\n",
       "    .dataframe tbody tr th {\n",
       "        vertical-align: top;\n",
       "    }\n",
       "\n",
       "    .dataframe thead th {\n",
       "        text-align: right;\n",
       "    }\n",
       "</style>\n",
       "<table border=\"1\" class=\"dataframe\">\n",
       "  <thead>\n",
       "    <tr style=\"text-align: right;\">\n",
       "      <th></th>\n",
       "      <th>price</th>\n",
       "      <th>inbuilt memory</th>\n",
       "      <th>battery</th>\n",
       "      <th>camera</th>\n",
       "      <th>MAIN_class</th>\n",
       "      <th>price_class</th>\n",
       "      <th>memory_class</th>\n",
       "      <th>battery_class</th>\n",
       "      <th>camera_class</th>\n",
       "      <th>smartphones</th>\n",
       "      <th>rating</th>\n",
       "    </tr>\n",
       "  </thead>\n",
       "  <tbody>\n",
       "    <tr>\n",
       "      <th>0</th>\n",
       "      <td>0.856494</td>\n",
       "      <td>1.110644</td>\n",
       "      <td>0.352049</td>\n",
       "      <td>-0.015525</td>\n",
       "      <td>2</td>\n",
       "      <td>2</td>\n",
       "      <td>1</td>\n",
       "      <td>1</td>\n",
       "      <td>0</td>\n",
       "      <td>oneplus 11 5g</td>\n",
       "      <td>89.0</td>\n",
       "    </tr>\n",
       "    <tr>\n",
       "      <th>1</th>\n",
       "      <td>-0.354611</td>\n",
       "      <td>-0.107008</td>\n",
       "      <td>0.352049</td>\n",
       "      <td>0.413582</td>\n",
       "      <td>4</td>\n",
       "      <td>0</td>\n",
       "      <td>0</td>\n",
       "      <td>1</td>\n",
       "      <td>4</td>\n",
       "      <td>oneplus nord ce 2 lite 5g</td>\n",
       "      <td>81.0</td>\n",
       "    </tr>\n",
       "    <tr>\n",
       "      <th>2</th>\n",
       "      <td>-0.475341</td>\n",
       "      <td>-0.715833</td>\n",
       "      <td>0.352049</td>\n",
       "      <td>-0.015525</td>\n",
       "      <td>4</td>\n",
       "      <td>0</td>\n",
       "      <td>3</td>\n",
       "      <td>1</td>\n",
       "      <td>0</td>\n",
       "      <td>samsung galaxy a14 5g</td>\n",
       "      <td>75.0</td>\n",
       "    </tr>\n",
       "    <tr>\n",
       "      <th>3</th>\n",
       "      <td>-0.527230</td>\n",
       "      <td>-0.107008</td>\n",
       "      <td>0.352049</td>\n",
       "      <td>-0.015525</td>\n",
       "      <td>4</td>\n",
       "      <td>0</td>\n",
       "      <td>0</td>\n",
       "      <td>1</td>\n",
       "      <td>0</td>\n",
       "      <td>motorola moto g62 5g</td>\n",
       "      <td>81.0</td>\n",
       "    </tr>\n",
       "    <tr>\n",
       "      <th>4</th>\n",
       "      <td>-0.181299</td>\n",
       "      <td>-0.107008</td>\n",
       "      <td>0.352049</td>\n",
       "      <td>1.762204</td>\n",
       "      <td>6</td>\n",
       "      <td>5</td>\n",
       "      <td>0</td>\n",
       "      <td>1</td>\n",
       "      <td>1</td>\n",
       "      <td>realme 10 pro plus</td>\n",
       "      <td>82.0</td>\n",
       "    </tr>\n",
       "  </tbody>\n",
       "</table>\n",
       "</div>"
      ],
      "text/plain": [
       "      price  inbuilt memory   battery    camera  MAIN_class  price_class  \\\n",
       "0  0.856494        1.110644  0.352049 -0.015525           2            2   \n",
       "1 -0.354611       -0.107008  0.352049  0.413582           4            0   \n",
       "2 -0.475341       -0.715833  0.352049 -0.015525           4            0   \n",
       "3 -0.527230       -0.107008  0.352049 -0.015525           4            0   \n",
       "4 -0.181299       -0.107008  0.352049  1.762204           6            5   \n",
       "\n",
       "   memory_class  battery_class  camera_class                smartphones  \\\n",
       "0             1              1             0              oneplus 11 5g   \n",
       "1             0              1             4  oneplus nord ce 2 lite 5g   \n",
       "2             3              1             0      samsung galaxy a14 5g   \n",
       "3             0              1             0       motorola moto g62 5g   \n",
       "4             0              1             1         realme 10 pro plus   \n",
       "\n",
       "   rating  \n",
       "0    89.0  \n",
       "1    81.0  \n",
       "2    75.0  \n",
       "3    81.0  \n",
       "4    82.0  "
      ]
     },
     "execution_count": 42,
     "metadata": {},
     "output_type": "execute_result"
    }
   ],
   "source": [
    "data.head()"
   ]
  },
  {
   "cell_type": "code",
   "execution_count": 41,
   "id": "aaef59f5-a115-4181-be04-6666bfa9ce85",
   "metadata": {},
   "outputs": [
    {
     "name": "stderr",
     "output_type": "stream",
     "text": [
      "C:\\Users\\bigbl\\anaconda3\\Lib\\site-packages\\sklearn\\base.py:439: UserWarning: X does not have valid feature names, but StandardScaler was fitted with feature names\n",
      "  warnings.warn(\n"
     ]
    },
    {
     "data": {
      "text/plain": [
       "array([[ 0.35633128, -0.84901399,  0.35204921,  2.3752141 ]])"
      ]
     },
     "execution_count": 41,
     "metadata": {},
     "output_type": "execute_result"
    }
   ],
   "source": [
    "test = [45000.0, 50.0, 5000.0, 128.0]\n",
    "StdScaler.transform([test])\n",
    "\n",
    "# PRICE_model.predict([[0.35633128]])"
   ]
  },
  {
   "cell_type": "code",
   "execution_count": 31,
   "id": "fa00431d-6979-4221-919e-65aea18d4e25",
   "metadata": {},
   "outputs": [
    {
     "data": {
      "text/html": [
       "<div>\n",
       "<style scoped>\n",
       "    .dataframe tbody tr th:only-of-type {\n",
       "        vertical-align: middle;\n",
       "    }\n",
       "\n",
       "    .dataframe tbody tr th {\n",
       "        vertical-align: top;\n",
       "    }\n",
       "\n",
       "    .dataframe thead th {\n",
       "        text-align: right;\n",
       "    }\n",
       "</style>\n",
       "<table border=\"1\" class=\"dataframe\">\n",
       "  <thead>\n",
       "    <tr style=\"text-align: right;\">\n",
       "      <th></th>\n",
       "      <th>price</th>\n",
       "      <th>price_class</th>\n",
       "    </tr>\n",
       "  </thead>\n",
       "  <tbody>\n",
       "    <tr>\n",
       "      <th>0</th>\n",
       "      <td>61048.89</td>\n",
       "      <td>2</td>\n",
       "    </tr>\n",
       "    <tr>\n",
       "      <th>1</th>\n",
       "      <td>22187.79</td>\n",
       "      <td>0</td>\n",
       "    </tr>\n",
       "    <tr>\n",
       "      <th>2</th>\n",
       "      <td>18313.89</td>\n",
       "      <td>0</td>\n",
       "    </tr>\n",
       "    <tr>\n",
       "      <th>3</th>\n",
       "      <td>16648.89</td>\n",
       "      <td>0</td>\n",
       "    </tr>\n",
       "    <tr>\n",
       "      <th>4</th>\n",
       "      <td>27748.89</td>\n",
       "      <td>5</td>\n",
       "    </tr>\n",
       "  </tbody>\n",
       "</table>\n",
       "</div>"
      ],
      "text/plain": [
       "      price  price_class\n",
       "0  61048.89            2\n",
       "1  22187.79            0\n",
       "2  18313.89            0\n",
       "3  16648.89            0\n",
       "4  27748.89            5"
      ]
     },
     "execution_count": 31,
     "metadata": {},
     "output_type": "execute_result"
    }
   ],
   "source": [
    "to_add_price = StdScaler.inverse_transform(data.iloc[:, :4]).T\n",
    "to_add_price = to_add_price[0]\n",
    "\n",
    "price_df = pd.DataFrame(data[['price', 'price_class']])\n",
    "price_df['price'] = to_add_price\n",
    "price_df.head()"
   ]
  },
  {
   "cell_type": "code",
   "execution_count": 38,
   "id": "9618386a-59cb-4b07-8a1b-6eedb6338f0f",
   "metadata": {},
   "outputs": [
    {
     "data": {
      "text/plain": [
       "<Axes: xlabel='price_class', ylabel='price'>"
      ]
     },
     "execution_count": 38,
     "metadata": {},
     "output_type": "execute_result"
    },
    {
     "data": {
      "image/png": "[encoded data removed]",
      "text/plain": [
       "<Figure size 640x480 with 1 Axes>"
      ]
     },
     "metadata": {},
     "output_type": "display_data"
    }
   ],
   "source": [
    "import seaborn as sns\n",
    "sns.scatterplot(data=price_df, x='price_class', y = 'price')"
   ]
  },
  {
   "cell_type": "code",
   "execution_count": null,
   "id": "69a1a180-f973-485c-bce9-546a329b7ea6",
   "metadata": {},
   "outputs": [],
   "source": []
  }
 ],
 "metadata": {
  "kernelspec": {
   "display_name": "Python 3 (ipykernel)",
   "language": "python",
   "name": "python3"
  },
  "language_info": {
   "codemirror_mode": {
    "name": "ipython",
    "version": 3
   },
   "file_extension": ".py",
   "mimetype": "text/x-python",
   "name": "python",
   "nbconvert_exporter": "python",
   "pygments_lexer": "ipython3",
   "version": "3.11.7"
  }
 },
 "nbformat": 4,
 "nbformat_minor": 5
}
